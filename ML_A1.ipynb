{
 "cells": [
  {
   "cell_type": "markdown",
   "metadata": {
    "id": "VAydvn0o1i8o"
   },
   "source": [
    "# Machine Learning Programming Assignment I"
   ]
  },
  {
   "cell_type": "markdown",
   "metadata": {
    "id": "fTFKcLpCpDjK"
   },
   "source": [
    "# Import the data"
   ]
  },
  {
   "cell_type": "code",
   "execution_count": 1,
   "metadata": {
    "id": "31hpiMd6B8ih"
   },
   "outputs": [],
   "source": [
    "import matplotlib.pyplot as plt\n",
    "import pandas as pd\n",
    "import numpy as np"
   ]
  },
  {
   "cell_type": "code",
   "execution_count": 2,
   "metadata": {
    "id": "mcJ1dzV7FErm"
   },
   "outputs": [],
   "source": [
    "from sklearn import linear_model\n",
    "from sklearn.datasets import make_regression\n",
    "\n",
    "from sklearn.linear_model import Ridge, LinearRegression, Lasso, RidgeCV, LassoCV,ElasticNet\n",
    "\n",
    "from sklearn.model_selection import cross_val_score\n",
    "from sklearn.model_selection import GridSearchCV\n",
    "\n",
    "from sklearn.metrics import r2_score\n",
    "from sklearn.metrics import mean_squared_error\n",
    "from sklearn.metrics import mean_absolute_error\n",
    "\n",
    "from sklearn.pipeline import Pipeline\n",
    "from sklearn.pipeline import make_pipeline\n",
    "\n",
    "from sklearn.model_selection import train_test_split\n",
    "from sklearn.preprocessing import StandardScaler\n",
    "\n",
    "from matplotlib import pyplot\n",
    "import seaborn as sns\n"
   ]
  },
  {
   "cell_type": "code",
   "execution_count": 3,
   "metadata": {
    "colab": {
     "base_uri": "https://localhost:8080/"
    },
    "id": "J1RW_NM9a4Bj",
    "outputId": "e9139601-f372-4a2c-bf03-f5d54b826fa6"
   },
   "outputs": [
    {
     "name": "stdout",
     "output_type": "stream",
     "text": [
      "Citation Request:\n",
      "  This dataset is public available for research. The details are described in [Cortez et al., 2009]. \n",
      "  Please include this citation if you plan to use this database:\n",
      "\n",
      "  P. Cortez, A. Cerdeira, F. Almeida, T. Matos and J. Reis. \n",
      "  Modeling wine preferences by data mining from physicochemical properties.\n",
      "  In Decision Support Systems, Elsevier, 47(4):547-553. ISSN: 0167-9236.\n",
      "\n",
      "  Available at: [@Elsevier] http://dx.doi.org/10.1016/j.dss.2009.05.016\n",
      "                [Pre-press (pdf)] http://www3.dsi.uminho.pt/pcortez/winequality09.pdf\n",
      "                [bib] http://www3.dsi.uminho.pt/pcortez/dss09.bib\n",
      "\n",
      "1. Title: Wine Quality \n",
      "\n",
      "2. Sources\n",
      "   Created by: Paulo Cortez (Univ. Minho), Antonio Cerdeira, Fernando Almeida, Telmo Matos and Jose Reis (CVRVV) @ 2009\n",
      "   \n",
      "3. Past Usage:\n",
      "\n",
      "  P. Cortez, A. Cerdeira, F. Almeida, T. Matos and J. Reis. \n",
      "  Modeling wine preferences by data mining from physicochemical properties.\n",
      "  In Decision Support Systems, Elsevier, 47(4):547-553. ISSN: 0167-9236.\n",
      "\n",
      "  In the above reference, two datasets were created, using red and white wine samples.\n",
      "  The inputs include objective tests (e.g. PH values) and the output is based on sensory data\n",
      "  (median of at least 3 evaluations made by wine experts). Each expert graded the wine quality \n",
      "  between 0 (very bad) and 10 (very excellent). Several data mining methods were applied to model\n",
      "  these datasets under a regression approach. The support vector machine model achieved the\n",
      "  best results. Several metrics were computed: MAD, confusion matrix for a fixed error tolerance (T),\n",
      "  etc. Also, we plot the relative importances of the input variables (as measured by a sensitivity\n",
      "  analysis procedure).\n",
      " \n",
      "4. Relevant Information:\n",
      "\n",
      "   The two datasets are related to red and white variants of the Portuguese \"Vinho Verde\" wine.\n",
      "   For more details, consult: http://www.vinhoverde.pt/en/ or the reference [Cortez et al., 2009].\n",
      "   Due to privacy and logistic issues, only physicochemical (inputs) and sensory (the output) variables \n",
      "   are available (e.g. there is no data about grape types, wine brand, wine selling price, etc.).\n",
      "\n",
      "   These datasets can be viewed as classification or regression tasks.\n",
      "   The classes are ordered and not balanced (e.g. there are munch more normal wines than\n",
      "   excellent or poor ones). Outlier detection algorithms could be used to detect the few excellent\n",
      "   or poor wines. Also, we are not sure if all input variables are relevant. So\n",
      "   it could be interesting to test feature selection methods. \n",
      "\n",
      "5. Number of Instances: red wine - 1599; white wine - 4898. \n",
      "\n",
      "6. Number of Attributes: 11 + output attribute\n",
      "  \n",
      "   Note: several of the attributes may be correlated, thus it makes sense to apply some sort of\n",
      "   feature selection.\n",
      "\n",
      "7. Attribute information:\n",
      "\n",
      "   For more information, read [Cortez et al., 2009].\n",
      "\n",
      "   Input variables (based on physicochemical tests):\n",
      "   1 - fixed acidity\n",
      "   2 - volatile acidity\n",
      "   3 - citric acid\n",
      "   4 - residual sugar\n",
      "   5 - chlorides\n",
      "   6 - free sulfur dioxide\n",
      "   7 - total sulfur dioxide\n",
      "   8 - density\n",
      "   9 - pH\n",
      "   10 - sulphates\n",
      "   11 - alcohol\n",
      "   Output variable (based on sensory data): \n",
      "   12 - quality (score between 0 and 10)\n",
      "\n",
      "8. Missing Attribute Values: None\n",
      "\n"
     ]
    }
   ],
   "source": [
    "with open(\"winequality.names\") as f:\n",
    "    print(f.read())"
   ]
  },
  {
   "cell_type": "code",
   "execution_count": 4,
   "metadata": {
    "id": "7mSq634VETZz"
   },
   "outputs": [],
   "source": [
    "#Read csv files\n",
    "red = pd.read_csv(\"winequality-red.csv\", delimiter=';')\n",
    "white = pd.read_csv(\"winequality-white.csv\", delimiter=';')"
   ]
  },
  {
   "cell_type": "code",
   "execution_count": 5,
   "metadata": {
    "id": "4Je8xPesrsPh"
   },
   "outputs": [],
   "source": [
    "#Substitute spaces in column names for _\n",
    "red.columns = red.columns.str.replace(' ','_')\n",
    "white.columns = red.columns.str.replace(' ','_')"
   ]
  },
  {
   "cell_type": "code",
   "execution_count": 6,
   "metadata": {
    "colab": {
     "base_uri": "https://localhost:8080/",
     "height": 270
    },
    "id": "SmzcUfderAY5",
    "outputId": "2ff3cba3-e2b0-47bf-a09e-717d12692d00"
   },
   "outputs": [
    {
     "data": {
      "text/html": [
       "\n",
       "  <div id=\"df-a92a9eb3-f765-4b58-bb4d-946e2d5128b6\">\n",
       "    <div class=\"colab-df-container\">\n",
       "      <div>\n",
       "<style scoped>\n",
       "    .dataframe tbody tr th:only-of-type {\n",
       "        vertical-align: middle;\n",
       "    }\n",
       "\n",
       "    .dataframe tbody tr th {\n",
       "        vertical-align: top;\n",
       "    }\n",
       "\n",
       "    .dataframe thead th {\n",
       "        text-align: right;\n",
       "    }\n",
       "</style>\n",
       "<table border=\"1\" class=\"dataframe\">\n",
       "  <thead>\n",
       "    <tr style=\"text-align: right;\">\n",
       "      <th></th>\n",
       "      <th>fixed_acidity</th>\n",
       "      <th>volatile_acidity</th>\n",
       "      <th>citric_acid</th>\n",
       "      <th>residual_sugar</th>\n",
       "      <th>chlorides</th>\n",
       "      <th>free_sulfur_dioxide</th>\n",
       "      <th>total_sulfur_dioxide</th>\n",
       "      <th>density</th>\n",
       "      <th>pH</th>\n",
       "      <th>sulphates</th>\n",
       "      <th>alcohol</th>\n",
       "      <th>quality</th>\n",
       "    </tr>\n",
       "  </thead>\n",
       "  <tbody>\n",
       "    <tr>\n",
       "      <th>0</th>\n",
       "      <td>7.4</td>\n",
       "      <td>0.70</td>\n",
       "      <td>0.00</td>\n",
       "      <td>1.9</td>\n",
       "      <td>0.076</td>\n",
       "      <td>11.0</td>\n",
       "      <td>34.0</td>\n",
       "      <td>0.9978</td>\n",
       "      <td>3.51</td>\n",
       "      <td>0.56</td>\n",
       "      <td>9.4</td>\n",
       "      <td>5</td>\n",
       "    </tr>\n",
       "    <tr>\n",
       "      <th>1</th>\n",
       "      <td>7.8</td>\n",
       "      <td>0.88</td>\n",
       "      <td>0.00</td>\n",
       "      <td>2.6</td>\n",
       "      <td>0.098</td>\n",
       "      <td>25.0</td>\n",
       "      <td>67.0</td>\n",
       "      <td>0.9968</td>\n",
       "      <td>3.20</td>\n",
       "      <td>0.68</td>\n",
       "      <td>9.8</td>\n",
       "      <td>5</td>\n",
       "    </tr>\n",
       "    <tr>\n",
       "      <th>2</th>\n",
       "      <td>7.8</td>\n",
       "      <td>0.76</td>\n",
       "      <td>0.04</td>\n",
       "      <td>2.3</td>\n",
       "      <td>0.092</td>\n",
       "      <td>15.0</td>\n",
       "      <td>54.0</td>\n",
       "      <td>0.9970</td>\n",
       "      <td>3.26</td>\n",
       "      <td>0.65</td>\n",
       "      <td>9.8</td>\n",
       "      <td>5</td>\n",
       "    </tr>\n",
       "    <tr>\n",
       "      <th>3</th>\n",
       "      <td>11.2</td>\n",
       "      <td>0.28</td>\n",
       "      <td>0.56</td>\n",
       "      <td>1.9</td>\n",
       "      <td>0.075</td>\n",
       "      <td>17.0</td>\n",
       "      <td>60.0</td>\n",
       "      <td>0.9980</td>\n",
       "      <td>3.16</td>\n",
       "      <td>0.58</td>\n",
       "      <td>9.8</td>\n",
       "      <td>6</td>\n",
       "    </tr>\n",
       "    <tr>\n",
       "      <th>4</th>\n",
       "      <td>7.4</td>\n",
       "      <td>0.70</td>\n",
       "      <td>0.00</td>\n",
       "      <td>1.9</td>\n",
       "      <td>0.076</td>\n",
       "      <td>11.0</td>\n",
       "      <td>34.0</td>\n",
       "      <td>0.9978</td>\n",
       "      <td>3.51</td>\n",
       "      <td>0.56</td>\n",
       "      <td>9.4</td>\n",
       "      <td>5</td>\n",
       "    </tr>\n",
       "  </tbody>\n",
       "</table>\n",
       "</div>\n",
       "      <button class=\"colab-df-convert\" onclick=\"convertToInteractive('df-a92a9eb3-f765-4b58-bb4d-946e2d5128b6')\"\n",
       "              title=\"Convert this dataframe to an interactive table.\"\n",
       "              style=\"display:none;\">\n",
       "        \n",
       "  <svg xmlns=\"http://www.w3.org/2000/svg\" height=\"24px\"viewBox=\"0 0 24 24\"\n",
       "       width=\"24px\">\n",
       "    <path d=\"M0 0h24v24H0V0z\" fill=\"none\"/>\n",
       "    <path d=\"M18.56 5.44l.94 2.06.94-2.06 2.06-.94-2.06-.94-.94-2.06-.94 2.06-2.06.94zm-11 1L8.5 8.5l.94-2.06 2.06-.94-2.06-.94L8.5 2.5l-.94 2.06-2.06.94zm10 10l.94 2.06.94-2.06 2.06-.94-2.06-.94-.94-2.06-.94 2.06-2.06.94z\"/><path d=\"M17.41 7.96l-1.37-1.37c-.4-.4-.92-.59-1.43-.59-.52 0-1.04.2-1.43.59L10.3 9.45l-7.72 7.72c-.78.78-.78 2.05 0 2.83L4 21.41c.39.39.9.59 1.41.59.51 0 1.02-.2 1.41-.59l7.78-7.78 2.81-2.81c.8-.78.8-2.07 0-2.86zM5.41 20L4 18.59l7.72-7.72 1.47 1.35L5.41 20z\"/>\n",
       "  </svg>\n",
       "      </button>\n",
       "      \n",
       "  <style>\n",
       "    .colab-df-container {\n",
       "      display:flex;\n",
       "      flex-wrap:wrap;\n",
       "      gap: 12px;\n",
       "    }\n",
       "\n",
       "    .colab-df-convert {\n",
       "      background-color: #E8F0FE;\n",
       "      border: none;\n",
       "      border-radius: 50%;\n",
       "      cursor: pointer;\n",
       "      display: none;\n",
       "      fill: #1967D2;\n",
       "      height: 32px;\n",
       "      padding: 0 0 0 0;\n",
       "      width: 32px;\n",
       "    }\n",
       "\n",
       "    .colab-df-convert:hover {\n",
       "      background-color: #E2EBFA;\n",
       "      box-shadow: 0px 1px 2px rgba(60, 64, 67, 0.3), 0px 1px 3px 1px rgba(60, 64, 67, 0.15);\n",
       "      fill: #174EA6;\n",
       "    }\n",
       "\n",
       "    [theme=dark] .colab-df-convert {\n",
       "      background-color: #3B4455;\n",
       "      fill: #D2E3FC;\n",
       "    }\n",
       "\n",
       "    [theme=dark] .colab-df-convert:hover {\n",
       "      background-color: #434B5C;\n",
       "      box-shadow: 0px 1px 3px 1px rgba(0, 0, 0, 0.15);\n",
       "      filter: drop-shadow(0px 1px 2px rgba(0, 0, 0, 0.3));\n",
       "      fill: #FFFFFF;\n",
       "    }\n",
       "  </style>\n",
       "\n",
       "      <script>\n",
       "        const buttonEl =\n",
       "          document.querySelector('#df-a92a9eb3-f765-4b58-bb4d-946e2d5128b6 button.colab-df-convert');\n",
       "        buttonEl.style.display =\n",
       "          google.colab.kernel.accessAllowed ? 'block' : 'none';\n",
       "\n",
       "        async function convertToInteractive(key) {\n",
       "          const element = document.querySelector('#df-a92a9eb3-f765-4b58-bb4d-946e2d5128b6');\n",
       "          const dataTable =\n",
       "            await google.colab.kernel.invokeFunction('convertToInteractive',\n",
       "                                                     [key], {});\n",
       "          if (!dataTable) return;\n",
       "\n",
       "          const docLinkHtml = 'Like what you see? Visit the ' +\n",
       "            '<a target=\"_blank\" href=https://colab.research.google.com/notebooks/data_table.ipynb>data table notebook</a>'\n",
       "            + ' to learn more about interactive tables.';\n",
       "          element.innerHTML = '';\n",
       "          dataTable['output_type'] = 'display_data';\n",
       "          await google.colab.output.renderOutput(dataTable, element);\n",
       "          const docLink = document.createElement('div');\n",
       "          docLink.innerHTML = docLinkHtml;\n",
       "          element.appendChild(docLink);\n",
       "        }\n",
       "      </script>\n",
       "    </div>\n",
       "  </div>\n",
       "  "
      ],
      "text/plain": [
       "   fixed_acidity  volatile_acidity  citric_acid  residual_sugar  chlorides  \\\n",
       "0            7.4              0.70         0.00             1.9      0.076   \n",
       "1            7.8              0.88         0.00             2.6      0.098   \n",
       "2            7.8              0.76         0.04             2.3      0.092   \n",
       "3           11.2              0.28         0.56             1.9      0.075   \n",
       "4            7.4              0.70         0.00             1.9      0.076   \n",
       "\n",
       "   free_sulfur_dioxide  total_sulfur_dioxide  density    pH  sulphates  \\\n",
       "0                 11.0                  34.0   0.9978  3.51       0.56   \n",
       "1                 25.0                  67.0   0.9968  3.20       0.68   \n",
       "2                 15.0                  54.0   0.9970  3.26       0.65   \n",
       "3                 17.0                  60.0   0.9980  3.16       0.58   \n",
       "4                 11.0                  34.0   0.9978  3.51       0.56   \n",
       "\n",
       "   alcohol  quality  \n",
       "0      9.4        5  \n",
       "1      9.8        5  \n",
       "2      9.8        5  \n",
       "3      9.8        6  \n",
       "4      9.4        5  "
      ]
     },
     "execution_count": 6,
     "metadata": {},
     "output_type": "execute_result"
    }
   ],
   "source": [
    "red.head()"
   ]
  },
  {
   "cell_type": "code",
   "execution_count": 7,
   "metadata": {
    "colab": {
     "base_uri": "https://localhost:8080/",
     "height": 270
    },
    "id": "PaE7OJROreoP",
    "outputId": "01590024-6564-42c9-9a49-b3e54a91b718"
   },
   "outputs": [
    {
     "data": {
      "text/html": [
       "\n",
       "  <div id=\"df-69083076-887c-479f-ba93-d025fff2fb11\">\n",
       "    <div class=\"colab-df-container\">\n",
       "      <div>\n",
       "<style scoped>\n",
       "    .dataframe tbody tr th:only-of-type {\n",
       "        vertical-align: middle;\n",
       "    }\n",
       "\n",
       "    .dataframe tbody tr th {\n",
       "        vertical-align: top;\n",
       "    }\n",
       "\n",
       "    .dataframe thead th {\n",
       "        text-align: right;\n",
       "    }\n",
       "</style>\n",
       "<table border=\"1\" class=\"dataframe\">\n",
       "  <thead>\n",
       "    <tr style=\"text-align: right;\">\n",
       "      <th></th>\n",
       "      <th>fixed_acidity</th>\n",
       "      <th>volatile_acidity</th>\n",
       "      <th>citric_acid</th>\n",
       "      <th>residual_sugar</th>\n",
       "      <th>chlorides</th>\n",
       "      <th>free_sulfur_dioxide</th>\n",
       "      <th>total_sulfur_dioxide</th>\n",
       "      <th>density</th>\n",
       "      <th>pH</th>\n",
       "      <th>sulphates</th>\n",
       "      <th>alcohol</th>\n",
       "      <th>quality</th>\n",
       "    </tr>\n",
       "  </thead>\n",
       "  <tbody>\n",
       "    <tr>\n",
       "      <th>0</th>\n",
       "      <td>7.0</td>\n",
       "      <td>0.27</td>\n",
       "      <td>0.36</td>\n",
       "      <td>20.7</td>\n",
       "      <td>0.045</td>\n",
       "      <td>45.0</td>\n",
       "      <td>170.0</td>\n",
       "      <td>1.0010</td>\n",
       "      <td>3.00</td>\n",
       "      <td>0.45</td>\n",
       "      <td>8.8</td>\n",
       "      <td>6</td>\n",
       "    </tr>\n",
       "    <tr>\n",
       "      <th>1</th>\n",
       "      <td>6.3</td>\n",
       "      <td>0.30</td>\n",
       "      <td>0.34</td>\n",
       "      <td>1.6</td>\n",
       "      <td>0.049</td>\n",
       "      <td>14.0</td>\n",
       "      <td>132.0</td>\n",
       "      <td>0.9940</td>\n",
       "      <td>3.30</td>\n",
       "      <td>0.49</td>\n",
       "      <td>9.5</td>\n",
       "      <td>6</td>\n",
       "    </tr>\n",
       "    <tr>\n",
       "      <th>2</th>\n",
       "      <td>8.1</td>\n",
       "      <td>0.28</td>\n",
       "      <td>0.40</td>\n",
       "      <td>6.9</td>\n",
       "      <td>0.050</td>\n",
       "      <td>30.0</td>\n",
       "      <td>97.0</td>\n",
       "      <td>0.9951</td>\n",
       "      <td>3.26</td>\n",
       "      <td>0.44</td>\n",
       "      <td>10.1</td>\n",
       "      <td>6</td>\n",
       "    </tr>\n",
       "    <tr>\n",
       "      <th>3</th>\n",
       "      <td>7.2</td>\n",
       "      <td>0.23</td>\n",
       "      <td>0.32</td>\n",
       "      <td>8.5</td>\n",
       "      <td>0.058</td>\n",
       "      <td>47.0</td>\n",
       "      <td>186.0</td>\n",
       "      <td>0.9956</td>\n",
       "      <td>3.19</td>\n",
       "      <td>0.40</td>\n",
       "      <td>9.9</td>\n",
       "      <td>6</td>\n",
       "    </tr>\n",
       "    <tr>\n",
       "      <th>4</th>\n",
       "      <td>7.2</td>\n",
       "      <td>0.23</td>\n",
       "      <td>0.32</td>\n",
       "      <td>8.5</td>\n",
       "      <td>0.058</td>\n",
       "      <td>47.0</td>\n",
       "      <td>186.0</td>\n",
       "      <td>0.9956</td>\n",
       "      <td>3.19</td>\n",
       "      <td>0.40</td>\n",
       "      <td>9.9</td>\n",
       "      <td>6</td>\n",
       "    </tr>\n",
       "  </tbody>\n",
       "</table>\n",
       "</div>\n",
       "      <button class=\"colab-df-convert\" onclick=\"convertToInteractive('df-69083076-887c-479f-ba93-d025fff2fb11')\"\n",
       "              title=\"Convert this dataframe to an interactive table.\"\n",
       "              style=\"display:none;\">\n",
       "        \n",
       "  <svg xmlns=\"http://www.w3.org/2000/svg\" height=\"24px\"viewBox=\"0 0 24 24\"\n",
       "       width=\"24px\">\n",
       "    <path d=\"M0 0h24v24H0V0z\" fill=\"none\"/>\n",
       "    <path d=\"M18.56 5.44l.94 2.06.94-2.06 2.06-.94-2.06-.94-.94-2.06-.94 2.06-2.06.94zm-11 1L8.5 8.5l.94-2.06 2.06-.94-2.06-.94L8.5 2.5l-.94 2.06-2.06.94zm10 10l.94 2.06.94-2.06 2.06-.94-2.06-.94-.94-2.06-.94 2.06-2.06.94z\"/><path d=\"M17.41 7.96l-1.37-1.37c-.4-.4-.92-.59-1.43-.59-.52 0-1.04.2-1.43.59L10.3 9.45l-7.72 7.72c-.78.78-.78 2.05 0 2.83L4 21.41c.39.39.9.59 1.41.59.51 0 1.02-.2 1.41-.59l7.78-7.78 2.81-2.81c.8-.78.8-2.07 0-2.86zM5.41 20L4 18.59l7.72-7.72 1.47 1.35L5.41 20z\"/>\n",
       "  </svg>\n",
       "      </button>\n",
       "      \n",
       "  <style>\n",
       "    .colab-df-container {\n",
       "      display:flex;\n",
       "      flex-wrap:wrap;\n",
       "      gap: 12px;\n",
       "    }\n",
       "\n",
       "    .colab-df-convert {\n",
       "      background-color: #E8F0FE;\n",
       "      border: none;\n",
       "      border-radius: 50%;\n",
       "      cursor: pointer;\n",
       "      display: none;\n",
       "      fill: #1967D2;\n",
       "      height: 32px;\n",
       "      padding: 0 0 0 0;\n",
       "      width: 32px;\n",
       "    }\n",
       "\n",
       "    .colab-df-convert:hover {\n",
       "      background-color: #E2EBFA;\n",
       "      box-shadow: 0px 1px 2px rgba(60, 64, 67, 0.3), 0px 1px 3px 1px rgba(60, 64, 67, 0.15);\n",
       "      fill: #174EA6;\n",
       "    }\n",
       "\n",
       "    [theme=dark] .colab-df-convert {\n",
       "      background-color: #3B4455;\n",
       "      fill: #D2E3FC;\n",
       "    }\n",
       "\n",
       "    [theme=dark] .colab-df-convert:hover {\n",
       "      background-color: #434B5C;\n",
       "      box-shadow: 0px 1px 3px 1px rgba(0, 0, 0, 0.15);\n",
       "      filter: drop-shadow(0px 1px 2px rgba(0, 0, 0, 0.3));\n",
       "      fill: #FFFFFF;\n",
       "    }\n",
       "  </style>\n",
       "\n",
       "      <script>\n",
       "        const buttonEl =\n",
       "          document.querySelector('#df-69083076-887c-479f-ba93-d025fff2fb11 button.colab-df-convert');\n",
       "        buttonEl.style.display =\n",
       "          google.colab.kernel.accessAllowed ? 'block' : 'none';\n",
       "\n",
       "        async function convertToInteractive(key) {\n",
       "          const element = document.querySelector('#df-69083076-887c-479f-ba93-d025fff2fb11');\n",
       "          const dataTable =\n",
       "            await google.colab.kernel.invokeFunction('convertToInteractive',\n",
       "                                                     [key], {});\n",
       "          if (!dataTable) return;\n",
       "\n",
       "          const docLinkHtml = 'Like what you see? Visit the ' +\n",
       "            '<a target=\"_blank\" href=https://colab.research.google.com/notebooks/data_table.ipynb>data table notebook</a>'\n",
       "            + ' to learn more about interactive tables.';\n",
       "          element.innerHTML = '';\n",
       "          dataTable['output_type'] = 'display_data';\n",
       "          await google.colab.output.renderOutput(dataTable, element);\n",
       "          const docLink = document.createElement('div');\n",
       "          docLink.innerHTML = docLinkHtml;\n",
       "          element.appendChild(docLink);\n",
       "        }\n",
       "      </script>\n",
       "    </div>\n",
       "  </div>\n",
       "  "
      ],
      "text/plain": [
       "   fixed_acidity  volatile_acidity  citric_acid  residual_sugar  chlorides  \\\n",
       "0            7.0              0.27         0.36            20.7      0.045   \n",
       "1            6.3              0.30         0.34             1.6      0.049   \n",
       "2            8.1              0.28         0.40             6.9      0.050   \n",
       "3            7.2              0.23         0.32             8.5      0.058   \n",
       "4            7.2              0.23         0.32             8.5      0.058   \n",
       "\n",
       "   free_sulfur_dioxide  total_sulfur_dioxide  density    pH  sulphates  \\\n",
       "0                 45.0                 170.0   1.0010  3.00       0.45   \n",
       "1                 14.0                 132.0   0.9940  3.30       0.49   \n",
       "2                 30.0                  97.0   0.9951  3.26       0.44   \n",
       "3                 47.0                 186.0   0.9956  3.19       0.40   \n",
       "4                 47.0                 186.0   0.9956  3.19       0.40   \n",
       "\n",
       "   alcohol  quality  \n",
       "0      8.8        6  \n",
       "1      9.5        6  \n",
       "2     10.1        6  \n",
       "3      9.9        6  \n",
       "4      9.9        6  "
      ]
     },
     "execution_count": 7,
     "metadata": {},
     "output_type": "execute_result"
    }
   ],
   "source": [
    "white.head()"
   ]
  },
  {
   "cell_type": "markdown",
   "metadata": {
    "id": "HFGavm7yCIk1"
   },
   "source": [
    "# 1 Data"
   ]
  },
  {
   "cell_type": "markdown",
   "metadata": {
    "id": "UkWW9rJLtXi0"
   },
   "source": [
    "## Red wine"
   ]
  },
  {
   "cell_type": "code",
   "execution_count": 8,
   "metadata": {
    "colab": {
     "base_uri": "https://localhost:8080/"
    },
    "id": "p9G-q9UAgUbB",
    "outputId": "78fab655-5a6f-48a1-d292-c1918649ca1a"
   },
   "outputs": [
    {
     "data": {
      "text/plain": [
       "(1599, 12)"
      ]
     },
     "execution_count": 8,
     "metadata": {},
     "output_type": "execute_result"
    }
   ],
   "source": [
    "red.shape"
   ]
  },
  {
   "cell_type": "code",
   "execution_count": 9,
   "metadata": {
    "colab": {
     "base_uri": "https://localhost:8080/",
     "height": 364
    },
    "id": "CdRyDnB2EnqU",
    "outputId": "1f64763a-f7ac-46f6-bbb0-f80edfe036fd"
   },
   "outputs": [
    {
     "data": {
      "text/html": [
       "\n",
       "  <div id=\"df-f8ed9a0c-d085-4de5-9a74-ecfae1011be1\">\n",
       "    <div class=\"colab-df-container\">\n",
       "      <div>\n",
       "<style scoped>\n",
       "    .dataframe tbody tr th:only-of-type {\n",
       "        vertical-align: middle;\n",
       "    }\n",
       "\n",
       "    .dataframe tbody tr th {\n",
       "        vertical-align: top;\n",
       "    }\n",
       "\n",
       "    .dataframe thead th {\n",
       "        text-align: right;\n",
       "    }\n",
       "</style>\n",
       "<table border=\"1\" class=\"dataframe\">\n",
       "  <thead>\n",
       "    <tr style=\"text-align: right;\">\n",
       "      <th></th>\n",
       "      <th>fixed_acidity</th>\n",
       "      <th>volatile_acidity</th>\n",
       "      <th>citric_acid</th>\n",
       "      <th>residual_sugar</th>\n",
       "      <th>chlorides</th>\n",
       "      <th>free_sulfur_dioxide</th>\n",
       "      <th>total_sulfur_dioxide</th>\n",
       "      <th>density</th>\n",
       "      <th>pH</th>\n",
       "      <th>sulphates</th>\n",
       "      <th>alcohol</th>\n",
       "      <th>quality</th>\n",
       "    </tr>\n",
       "  </thead>\n",
       "  <tbody>\n",
       "    <tr>\n",
       "      <th>count</th>\n",
       "      <td>1599.000000</td>\n",
       "      <td>1599.000000</td>\n",
       "      <td>1599.000000</td>\n",
       "      <td>1599.000000</td>\n",
       "      <td>1599.000000</td>\n",
       "      <td>1599.000000</td>\n",
       "      <td>1599.000000</td>\n",
       "      <td>1599.000000</td>\n",
       "      <td>1599.000000</td>\n",
       "      <td>1599.000000</td>\n",
       "      <td>1599.000000</td>\n",
       "      <td>1599.000000</td>\n",
       "    </tr>\n",
       "    <tr>\n",
       "      <th>mean</th>\n",
       "      <td>8.319637</td>\n",
       "      <td>0.527821</td>\n",
       "      <td>0.270976</td>\n",
       "      <td>2.538806</td>\n",
       "      <td>0.087467</td>\n",
       "      <td>15.874922</td>\n",
       "      <td>46.467792</td>\n",
       "      <td>0.996747</td>\n",
       "      <td>3.311113</td>\n",
       "      <td>0.658149</td>\n",
       "      <td>10.422983</td>\n",
       "      <td>5.636023</td>\n",
       "    </tr>\n",
       "    <tr>\n",
       "      <th>std</th>\n",
       "      <td>1.741096</td>\n",
       "      <td>0.179060</td>\n",
       "      <td>0.194801</td>\n",
       "      <td>1.409928</td>\n",
       "      <td>0.047065</td>\n",
       "      <td>10.460157</td>\n",
       "      <td>32.895324</td>\n",
       "      <td>0.001887</td>\n",
       "      <td>0.154386</td>\n",
       "      <td>0.169507</td>\n",
       "      <td>1.065668</td>\n",
       "      <td>0.807569</td>\n",
       "    </tr>\n",
       "    <tr>\n",
       "      <th>min</th>\n",
       "      <td>4.600000</td>\n",
       "      <td>0.120000</td>\n",
       "      <td>0.000000</td>\n",
       "      <td>0.900000</td>\n",
       "      <td>0.012000</td>\n",
       "      <td>1.000000</td>\n",
       "      <td>6.000000</td>\n",
       "      <td>0.990070</td>\n",
       "      <td>2.740000</td>\n",
       "      <td>0.330000</td>\n",
       "      <td>8.400000</td>\n",
       "      <td>3.000000</td>\n",
       "    </tr>\n",
       "    <tr>\n",
       "      <th>25%</th>\n",
       "      <td>7.100000</td>\n",
       "      <td>0.390000</td>\n",
       "      <td>0.090000</td>\n",
       "      <td>1.900000</td>\n",
       "      <td>0.070000</td>\n",
       "      <td>7.000000</td>\n",
       "      <td>22.000000</td>\n",
       "      <td>0.995600</td>\n",
       "      <td>3.210000</td>\n",
       "      <td>0.550000</td>\n",
       "      <td>9.500000</td>\n",
       "      <td>5.000000</td>\n",
       "    </tr>\n",
       "    <tr>\n",
       "      <th>50%</th>\n",
       "      <td>7.900000</td>\n",
       "      <td>0.520000</td>\n",
       "      <td>0.260000</td>\n",
       "      <td>2.200000</td>\n",
       "      <td>0.079000</td>\n",
       "      <td>14.000000</td>\n",
       "      <td>38.000000</td>\n",
       "      <td>0.996750</td>\n",
       "      <td>3.310000</td>\n",
       "      <td>0.620000</td>\n",
       "      <td>10.200000</td>\n",
       "      <td>6.000000</td>\n",
       "    </tr>\n",
       "    <tr>\n",
       "      <th>75%</th>\n",
       "      <td>9.200000</td>\n",
       "      <td>0.640000</td>\n",
       "      <td>0.420000</td>\n",
       "      <td>2.600000</td>\n",
       "      <td>0.090000</td>\n",
       "      <td>21.000000</td>\n",
       "      <td>62.000000</td>\n",
       "      <td>0.997835</td>\n",
       "      <td>3.400000</td>\n",
       "      <td>0.730000</td>\n",
       "      <td>11.100000</td>\n",
       "      <td>6.000000</td>\n",
       "    </tr>\n",
       "    <tr>\n",
       "      <th>max</th>\n",
       "      <td>15.900000</td>\n",
       "      <td>1.580000</td>\n",
       "      <td>1.000000</td>\n",
       "      <td>15.500000</td>\n",
       "      <td>0.611000</td>\n",
       "      <td>72.000000</td>\n",
       "      <td>289.000000</td>\n",
       "      <td>1.003690</td>\n",
       "      <td>4.010000</td>\n",
       "      <td>2.000000</td>\n",
       "      <td>14.900000</td>\n",
       "      <td>8.000000</td>\n",
       "    </tr>\n",
       "  </tbody>\n",
       "</table>\n",
       "</div>\n",
       "      <button class=\"colab-df-convert\" onclick=\"convertToInteractive('df-f8ed9a0c-d085-4de5-9a74-ecfae1011be1')\"\n",
       "              title=\"Convert this dataframe to an interactive table.\"\n",
       "              style=\"display:none;\">\n",
       "        \n",
       "  <svg xmlns=\"http://www.w3.org/2000/svg\" height=\"24px\"viewBox=\"0 0 24 24\"\n",
       "       width=\"24px\">\n",
       "    <path d=\"M0 0h24v24H0V0z\" fill=\"none\"/>\n",
       "    <path d=\"M18.56 5.44l.94 2.06.94-2.06 2.06-.94-2.06-.94-.94-2.06-.94 2.06-2.06.94zm-11 1L8.5 8.5l.94-2.06 2.06-.94-2.06-.94L8.5 2.5l-.94 2.06-2.06.94zm10 10l.94 2.06.94-2.06 2.06-.94-2.06-.94-.94-2.06-.94 2.06-2.06.94z\"/><path d=\"M17.41 7.96l-1.37-1.37c-.4-.4-.92-.59-1.43-.59-.52 0-1.04.2-1.43.59L10.3 9.45l-7.72 7.72c-.78.78-.78 2.05 0 2.83L4 21.41c.39.39.9.59 1.41.59.51 0 1.02-.2 1.41-.59l7.78-7.78 2.81-2.81c.8-.78.8-2.07 0-2.86zM5.41 20L4 18.59l7.72-7.72 1.47 1.35L5.41 20z\"/>\n",
       "  </svg>\n",
       "      </button>\n",
       "      \n",
       "  <style>\n",
       "    .colab-df-container {\n",
       "      display:flex;\n",
       "      flex-wrap:wrap;\n",
       "      gap: 12px;\n",
       "    }\n",
       "\n",
       "    .colab-df-convert {\n",
       "      background-color: #E8F0FE;\n",
       "      border: none;\n",
       "      border-radius: 50%;\n",
       "      cursor: pointer;\n",
       "      display: none;\n",
       "      fill: #1967D2;\n",
       "      height: 32px;\n",
       "      padding: 0 0 0 0;\n",
       "      width: 32px;\n",
       "    }\n",
       "\n",
       "    .colab-df-convert:hover {\n",
       "      background-color: #E2EBFA;\n",
       "      box-shadow: 0px 1px 2px rgba(60, 64, 67, 0.3), 0px 1px 3px 1px rgba(60, 64, 67, 0.15);\n",
       "      fill: #174EA6;\n",
       "    }\n",
       "\n",
       "    [theme=dark] .colab-df-convert {\n",
       "      background-color: #3B4455;\n",
       "      fill: #D2E3FC;\n",
       "    }\n",
       "\n",
       "    [theme=dark] .colab-df-convert:hover {\n",
       "      background-color: #434B5C;\n",
       "      box-shadow: 0px 1px 3px 1px rgba(0, 0, 0, 0.15);\n",
       "      filter: drop-shadow(0px 1px 2px rgba(0, 0, 0, 0.3));\n",
       "      fill: #FFFFFF;\n",
       "    }\n",
       "  </style>\n",
       "\n",
       "      <script>\n",
       "        const buttonEl =\n",
       "          document.querySelector('#df-f8ed9a0c-d085-4de5-9a74-ecfae1011be1 button.colab-df-convert');\n",
       "        buttonEl.style.display =\n",
       "          google.colab.kernel.accessAllowed ? 'block' : 'none';\n",
       "\n",
       "        async function convertToInteractive(key) {\n",
       "          const element = document.querySelector('#df-f8ed9a0c-d085-4de5-9a74-ecfae1011be1');\n",
       "          const dataTable =\n",
       "            await google.colab.kernel.invokeFunction('convertToInteractive',\n",
       "                                                     [key], {});\n",
       "          if (!dataTable) return;\n",
       "\n",
       "          const docLinkHtml = 'Like what you see? Visit the ' +\n",
       "            '<a target=\"_blank\" href=https://colab.research.google.com/notebooks/data_table.ipynb>data table notebook</a>'\n",
       "            + ' to learn more about interactive tables.';\n",
       "          element.innerHTML = '';\n",
       "          dataTable['output_type'] = 'display_data';\n",
       "          await google.colab.output.renderOutput(dataTable, element);\n",
       "          const docLink = document.createElement('div');\n",
       "          docLink.innerHTML = docLinkHtml;\n",
       "          element.appendChild(docLink);\n",
       "        }\n",
       "      </script>\n",
       "    </div>\n",
       "  </div>\n",
       "  "
      ],
      "text/plain": [
       "       fixed_acidity  volatile_acidity  citric_acid  residual_sugar  \\\n",
       "count    1599.000000       1599.000000  1599.000000     1599.000000   \n",
       "mean        8.319637          0.527821     0.270976        2.538806   \n",
       "std         1.741096          0.179060     0.194801        1.409928   \n",
       "min         4.600000          0.120000     0.000000        0.900000   \n",
       "25%         7.100000          0.390000     0.090000        1.900000   \n",
       "50%         7.900000          0.520000     0.260000        2.200000   \n",
       "75%         9.200000          0.640000     0.420000        2.600000   \n",
       "max        15.900000          1.580000     1.000000       15.500000   \n",
       "\n",
       "         chlorides  free_sulfur_dioxide  total_sulfur_dioxide      density  \\\n",
       "count  1599.000000          1599.000000           1599.000000  1599.000000   \n",
       "mean      0.087467            15.874922             46.467792     0.996747   \n",
       "std       0.047065            10.460157             32.895324     0.001887   \n",
       "min       0.012000             1.000000              6.000000     0.990070   \n",
       "25%       0.070000             7.000000             22.000000     0.995600   \n",
       "50%       0.079000            14.000000             38.000000     0.996750   \n",
       "75%       0.090000            21.000000             62.000000     0.997835   \n",
       "max       0.611000            72.000000            289.000000     1.003690   \n",
       "\n",
       "                pH    sulphates      alcohol      quality  \n",
       "count  1599.000000  1599.000000  1599.000000  1599.000000  \n",
       "mean      3.311113     0.658149    10.422983     5.636023  \n",
       "std       0.154386     0.169507     1.065668     0.807569  \n",
       "min       2.740000     0.330000     8.400000     3.000000  \n",
       "25%       3.210000     0.550000     9.500000     5.000000  \n",
       "50%       3.310000     0.620000    10.200000     6.000000  \n",
       "75%       3.400000     0.730000    11.100000     6.000000  \n",
       "max       4.010000     2.000000    14.900000     8.000000  "
      ]
     },
     "execution_count": 9,
     "metadata": {},
     "output_type": "execute_result"
    }
   ],
   "source": [
    "red.describe()"
   ]
  },
  {
   "cell_type": "code",
   "execution_count": 10,
   "metadata": {
    "colab": {
     "base_uri": "https://localhost:8080/"
    },
    "id": "5lZTtIrRM76t",
    "outputId": "4f0cf225-5e9a-4a92-b75a-4fc30832fd18"
   },
   "outputs": [
    {
     "data": {
      "text/plain": [
       "fixed_acidity           float64\n",
       "volatile_acidity        float64\n",
       "citric_acid             float64\n",
       "residual_sugar          float64\n",
       "chlorides               float64\n",
       "free_sulfur_dioxide     float64\n",
       "total_sulfur_dioxide    float64\n",
       "density                 float64\n",
       "pH                      float64\n",
       "sulphates               float64\n",
       "alcohol                 float64\n",
       "quality                   int64\n",
       "dtype: object"
      ]
     },
     "execution_count": 10,
     "metadata": {},
     "output_type": "execute_result"
    }
   ],
   "source": [
    "#Data types of the features\n",
    "red.dtypes"
   ]
  },
  {
   "cell_type": "code",
   "execution_count": 11,
   "metadata": {
    "colab": {
     "base_uri": "https://localhost:8080/"
    },
    "id": "C374xxgCScdK",
    "outputId": "c8341dc3-0253-46af-f619-9ffe3eb5d024"
   },
   "outputs": [
    {
     "data": {
      "text/plain": [
       "fixed_acidity           0\n",
       "volatile_acidity        0\n",
       "citric_acid             0\n",
       "residual_sugar          0\n",
       "chlorides               0\n",
       "free_sulfur_dioxide     0\n",
       "total_sulfur_dioxide    0\n",
       "density                 0\n",
       "pH                      0\n",
       "sulphates               0\n",
       "alcohol                 0\n",
       "quality                 0\n",
       "dtype: int64"
      ]
     },
     "execution_count": 11,
     "metadata": {},
     "output_type": "execute_result"
    }
   ],
   "source": [
    "#Check for missing values\n",
    "red.isnull().sum(axis = 0) "
   ]
  },
  {
   "cell_type": "code",
   "execution_count": 12,
   "metadata": {
    "colab": {
     "base_uri": "https://localhost:8080/",
     "height": 948
    },
    "id": "IxsIu-KkXRvf",
    "outputId": "83900f67-b850-4373-d377-ee65eaef0c94"
   },
   "outputs": [
    {
     "data": {
      "text/plain": [
       "array([[<matplotlib.axes._subplots.AxesSubplot object at 0x7f939d080f90>,\n",
       "        <matplotlib.axes._subplots.AxesSubplot object at 0x7f939d066290>,\n",
       "        <matplotlib.axes._subplots.AxesSubplot object at 0x7f939d020890>],\n",
       "       [<matplotlib.axes._subplots.AxesSubplot object at 0x7f939cfdbe90>,\n",
       "        <matplotlib.axes._subplots.AxesSubplot object at 0x7f939cf9d4d0>,\n",
       "        <matplotlib.axes._subplots.AxesSubplot object at 0x7f939cf51ad0>],\n",
       "       [<matplotlib.axes._subplots.AxesSubplot object at 0x7f939cf15190>,\n",
       "        <matplotlib.axes._subplots.AxesSubplot object at 0x7f939cecb6d0>,\n",
       "        <matplotlib.axes._subplots.AxesSubplot object at 0x7f939cecb710>],\n",
       "       [<matplotlib.axes._subplots.AxesSubplot object at 0x7f939ce7fe10>,\n",
       "        <matplotlib.axes._subplots.AxesSubplot object at 0x7f939cdfd950>,\n",
       "        <matplotlib.axes._subplots.AxesSubplot object at 0x7f939ce33f50>]],\n",
       "      dtype=object)"
      ]
     },
     "execution_count": 12,
     "metadata": {},
     "output_type": "execute_result"
    },
    {
     "data": {
      "image/png": "[encoded data removed]",
      "text/plain": [
       "<Figure size 864x864 with 12 Axes>"
      ]
     },
     "metadata": {
      "needs_background": "light"
     },
     "output_type": "display_data"
    }
   ],
   "source": [
    "#Histogram of frequency distribution of features\n",
    "red.hist(bins=24,figsize=(12,12)) "
   ]
  },
  {
   "cell_type": "markdown",
   "metadata": {
    "id": "yF-yELDWsr0X"
   },
   "source": [
    "These features values will be scaling later on the linear regression."
   ]
  },
  {
   "cell_type": "code",
   "execution_count": 13,
   "metadata": {
    "colab": {
     "base_uri": "https://localhost:8080/",
     "height": 446
    },
    "id": "34MMqdb6NzT7",
    "outputId": "a390d17b-04c0-433c-865c-c3064b07a2d2"
   },
   "outputs": [
    {
     "data": {
      "text/html": [
       "<style type=\"text/css\">\n",
       "#T_5fcba_row0_col0, #T_5fcba_row1_col1, #T_5fcba_row2_col2, #T_5fcba_row3_col3, #T_5fcba_row4_col4, #T_5fcba_row5_col5, #T_5fcba_row6_col6, #T_5fcba_row7_col7, #T_5fcba_row8_col8, #T_5fcba_row9_col9, #T_5fcba_row10_col10, #T_5fcba_row11_col11 {\n",
       "  background-color: #08306b;\n",
       "  color: #f1f1f1;\n",
       "}\n",
       "#T_5fcba_row0_col1, #T_5fcba_row4_col11, #T_5fcba_row9_col1 {\n",
       "  background-color: #d2e3f3;\n",
       "  color: #000000;\n",
       "}\n",
       "#T_5fcba_row0_col2 {\n",
       "  background-color: #1967ad;\n",
       "  color: #f1f1f1;\n",
       "}\n",
       "#T_5fcba_row0_col3, #T_5fcba_row4_col10 {\n",
       "  background-color: #d3e3f3;\n",
       "  color: #000000;\n",
       "}\n",
       "#T_5fcba_row0_col4 {\n",
       "  background-color: #bcd7eb;\n",
       "  color: #000000;\n",
       "}\n",
       "#T_5fcba_row0_col5, #T_5fcba_row0_col8, #T_5fcba_row1_col2, #T_5fcba_row1_col9, #T_5fcba_row1_col11, #T_5fcba_row2_col1, #T_5fcba_row7_col10, #T_5fcba_row8_col0, #T_5fcba_row8_col3, #T_5fcba_row8_col4, #T_5fcba_row10_col6, #T_5fcba_row10_col7 {\n",
       "  background-color: #f7fbff;\n",
       "  color: #000000;\n",
       "}\n",
       "#T_5fcba_row0_col6 {\n",
       "  background-color: #e8f1fa;\n",
       "  color: #000000;\n",
       "}\n",
       "#T_5fcba_row0_col7 {\n",
       "  background-color: #1b69af;\n",
       "  color: #f1f1f1;\n",
       "}\n",
       "#T_5fcba_row0_col9, #T_5fcba_row3_col8 {\n",
       "  background-color: #a5cde3;\n",
       "  color: #000000;\n",
       "}\n",
       "#T_5fcba_row0_col10, #T_5fcba_row3_col11 {\n",
       "  background-color: #b9d6ea;\n",
       "  color: #000000;\n",
       "}\n",
       "#T_5fcba_row0_col11, #T_5fcba_row2_col4, #T_5fcba_row7_col1, #T_5fcba_row7_col4, #T_5fcba_row10_col0 {\n",
       "  background-color: #a0cbe2;\n",
       "  color: #000000;\n",
       "}\n",
       "#T_5fcba_row1_col0, #T_5fcba_row3_col4, #T_5fcba_row5_col3 {\n",
       "  background-color: #c6dbef;\n",
       "  color: #000000;\n",
       "}\n",
       "#T_5fcba_row1_col3, #T_5fcba_row2_col5 {\n",
       "  background-color: #e7f1fa;\n",
       "  color: #000000;\n",
       "}\n",
       "#T_5fcba_row1_col4 {\n",
       "  background-color: #c3daee;\n",
       "  color: #000000;\n",
       "}\n",
       "#T_5fcba_row1_col5 {\n",
       "  background-color: #dfebf7;\n",
       "  color: #000000;\n",
       "}\n",
       "#T_5fcba_row1_col6 {\n",
       "  background-color: #caddf0;\n",
       "  color: #000000;\n",
       "}\n",
       "#T_5fcba_row1_col7 {\n",
       "  background-color: #a8cee4;\n",
       "  color: #000000;\n",
       "}\n",
       "#T_5fcba_row1_col8 {\n",
       "  background-color: #5ca4d0;\n",
       "  color: #f1f1f1;\n",
       "}\n",
       "#T_5fcba_row1_col10 {\n",
       "  background-color: #d0e2f2;\n",
       "  color: #000000;\n",
       "}\n",
       "#T_5fcba_row2_col0 {\n",
       "  background-color: #1562a9;\n",
       "  color: #f1f1f1;\n",
       "}\n",
       "#T_5fcba_row2_col3, #T_5fcba_row3_col9, #T_5fcba_row5_col4, #T_5fcba_row11_col7 {\n",
       "  background-color: #cde0f1;\n",
       "  color: #000000;\n",
       "}\n",
       "#T_5fcba_row2_col6, #T_5fcba_row7_col8 {\n",
       "  background-color: #d0e1f2;\n",
       "  color: #000000;\n",
       "}\n",
       "#T_5fcba_row2_col7 {\n",
       "  background-color: #529dcc;\n",
       "  color: #f1f1f1;\n",
       "}\n",
       "#T_5fcba_row2_col8, #T_5fcba_row9_col3 {\n",
       "  background-color: #e7f0fa;\n",
       "  color: #000000;\n",
       "}\n",
       "#T_5fcba_row2_col9 {\n",
       "  background-color: #7db8da;\n",
       "  color: #000000;\n",
       "}\n",
       "#T_5fcba_row2_col10, #T_5fcba_row6_col1, #T_5fcba_row7_col3 {\n",
       "  background-color: #92c4de;\n",
       "  color: #000000;\n",
       "}\n",
       "#T_5fcba_row2_col11 {\n",
       "  background-color: #82bbdb;\n",
       "  color: #000000;\n",
       "}\n",
       "#T_5fcba_row3_col0 {\n",
       "  background-color: #75b4d8;\n",
       "  color: #000000;\n",
       "}\n",
       "#T_5fcba_row3_col1 {\n",
       "  background-color: #a4cce3;\n",
       "  color: #000000;\n",
       "}\n",
       "#T_5fcba_row3_col2, #T_5fcba_row5_col8 {\n",
       "  background-color: #81badb;\n",
       "  color: #000000;\n",
       "}\n",
       "#T_5fcba_row3_col5 {\n",
       "  background-color: #b8d5ea;\n",
       "  color: #000000;\n",
       "}\n",
       "#T_5fcba_row3_col6, #T_5fcba_row6_col0 {\n",
       "  background-color: #aacfe5;\n",
       "  color: #000000;\n",
       "}\n",
       "#T_5fcba_row3_col7 {\n",
       "  background-color: #549fcd;\n",
       "  color: #f1f1f1;\n",
       "}\n",
       "#T_5fcba_row3_col10 {\n",
       "  background-color: #a3cce3;\n",
       "  color: #000000;\n",
       "}\n",
       "#T_5fcba_row4_col0, #T_5fcba_row9_col11 {\n",
       "  background-color: #7ab6d9;\n",
       "  color: #000000;\n",
       "}\n",
       "#T_5fcba_row4_col1 {\n",
       "  background-color: #95c5df;\n",
       "  color: #000000;\n",
       "}\n",
       "#T_5fcba_row4_col2 {\n",
       "  background-color: #71b1d7;\n",
       "  color: #f1f1f1;\n",
       "}\n",
       "#T_5fcba_row4_col3 {\n",
       "  background-color: #ddeaf7;\n",
       "  color: #000000;\n",
       "}\n",
       "#T_5fcba_row4_col5 {\n",
       "  background-color: #dce9f6;\n",
       "  color: #000000;\n",
       "}\n",
       "#T_5fcba_row4_col6 {\n",
       "  background-color: #cee0f2;\n",
       "  color: #000000;\n",
       "}\n",
       "#T_5fcba_row4_col7 {\n",
       "  background-color: #79b5d9;\n",
       "  color: #000000;\n",
       "}\n",
       "#T_5fcba_row4_col8, #T_5fcba_row5_col9, #T_5fcba_row6_col4 {\n",
       "  background-color: #c7dbef;\n",
       "  color: #000000;\n",
       "}\n",
       "#T_5fcba_row4_col9, #T_5fcba_row9_col4, #T_5fcba_row11_col2 {\n",
       "  background-color: #6aaed6;\n",
       "  color: #f1f1f1;\n",
       "}\n",
       "#T_5fcba_row5_col0 {\n",
       "  background-color: #b2d2e8;\n",
       "  color: #000000;\n",
       "}\n",
       "#T_5fcba_row5_col1 {\n",
       "  background-color: #a6cee4;\n",
       "  color: #000000;\n",
       "}\n",
       "#T_5fcba_row5_col2, #T_5fcba_row5_col7 {\n",
       "  background-color: #b0d2e7;\n",
       "  color: #000000;\n",
       "}\n",
       "#T_5fcba_row5_col6 {\n",
       "  background-color: #2777b8;\n",
       "  color: #f1f1f1;\n",
       "}\n",
       "#T_5fcba_row5_col10, #T_5fcba_row9_col8 {\n",
       "  background-color: #bad6eb;\n",
       "  color: #000000;\n",
       "}\n",
       "#T_5fcba_row5_col11 {\n",
       "  background-color: #c7dcef;\n",
       "  color: #000000;\n",
       "}\n",
       "#T_5fcba_row6_col2 {\n",
       "  background-color: #9dcae1;\n",
       "  color: #000000;\n",
       "}\n",
       "#T_5fcba_row6_col3 {\n",
       "  background-color: #c1d9ed;\n",
       "  color: #000000;\n",
       "}\n",
       "#T_5fcba_row6_col5 {\n",
       "  background-color: #2b7bba;\n",
       "  color: #f1f1f1;\n",
       "}\n",
       "#T_5fcba_row6_col7 {\n",
       "  background-color: #9cc9e1;\n",
       "  color: #000000;\n",
       "}\n",
       "#T_5fcba_row6_col8 {\n",
       "  background-color: #a1cbe2;\n",
       "  color: #000000;\n",
       "}\n",
       "#T_5fcba_row6_col9, #T_5fcba_row8_col11 {\n",
       "  background-color: #c8dcf0;\n",
       "  color: #000000;\n",
       "}\n",
       "#T_5fcba_row6_col10, #T_5fcba_row8_col5 {\n",
       "  background-color: #d1e2f3;\n",
       "  color: #000000;\n",
       "}\n",
       "#T_5fcba_row6_col11 {\n",
       "  background-color: #dae8f6;\n",
       "  color: #000000;\n",
       "}\n",
       "#T_5fcba_row7_col0 {\n",
       "  background-color: #1663aa;\n",
       "  color: #f1f1f1;\n",
       "}\n",
       "#T_5fcba_row7_col2 {\n",
       "  background-color: #4d99ca;\n",
       "  color: #f1f1f1;\n",
       "}\n",
       "#T_5fcba_row7_col5, #T_5fcba_row8_col6 {\n",
       "  background-color: #e0ecf8;\n",
       "  color: #000000;\n",
       "}\n",
       "#T_5fcba_row7_col6 {\n",
       "  background-color: #cadef0;\n",
       "  color: #000000;\n",
       "}\n",
       "#T_5fcba_row7_col9 {\n",
       "  background-color: #aed1e7;\n",
       "  color: #000000;\n",
       "}\n",
       "#T_5fcba_row7_col11 {\n",
       "  background-color: #d9e7f5;\n",
       "  color: #000000;\n",
       "}\n",
       "#T_5fcba_row8_col1 {\n",
       "  background-color: #69add5;\n",
       "  color: #f1f1f1;\n",
       "}\n",
       "#T_5fcba_row8_col2 {\n",
       "  background-color: #f6faff;\n",
       "  color: #000000;\n",
       "}\n",
       "#T_5fcba_row8_col7, #T_5fcba_row11_col1 {\n",
       "  background-color: #e3eef8;\n",
       "  color: #000000;\n",
       "}\n",
       "#T_5fcba_row8_col9 {\n",
       "  background-color: #edf4fc;\n",
       "  color: #000000;\n",
       "}\n",
       "#T_5fcba_row8_col10 {\n",
       "  background-color: #77b5d9;\n",
       "  color: #000000;\n",
       "}\n",
       "#T_5fcba_row9_col0 {\n",
       "  background-color: #66abd4;\n",
       "  color: #f1f1f1;\n",
       "}\n",
       "#T_5fcba_row9_col2 {\n",
       "  background-color: #58a1cf;\n",
       "  color: #f1f1f1;\n",
       "}\n",
       "#T_5fcba_row9_col5 {\n",
       "  background-color: #d4e4f4;\n",
       "  color: #000000;\n",
       "}\n",
       "#T_5fcba_row9_col6 {\n",
       "  background-color: #cfe1f2;\n",
       "  color: #000000;\n",
       "}\n",
       "#T_5fcba_row9_col7 {\n",
       "  background-color: #87bddc;\n",
       "  color: #000000;\n",
       "}\n",
       "#T_5fcba_row9_col10 {\n",
       "  background-color: #97c6df;\n",
       "  color: #000000;\n",
       "}\n",
       "#T_5fcba_row10_col1 {\n",
       "  background-color: #cbdef1;\n",
       "  color: #000000;\n",
       "}\n",
       "#T_5fcba_row10_col2 {\n",
       "  background-color: #89bedc;\n",
       "  color: #000000;\n",
       "}\n",
       "#T_5fcba_row10_col3 {\n",
       "  background-color: #dfecf7;\n",
       "  color: #000000;\n",
       "}\n",
       "#T_5fcba_row10_col4 {\n",
       "  background-color: #f1f7fd;\n",
       "  color: #000000;\n",
       "}\n",
       "#T_5fcba_row10_col5 {\n",
       "  background-color: #e9f2fa;\n",
       "  color: #000000;\n",
       "}\n",
       "#T_5fcba_row10_col8 {\n",
       "  background-color: #61a7d2;\n",
       "  color: #f1f1f1;\n",
       "}\n",
       "#T_5fcba_row10_col9 {\n",
       "  background-color: #bdd7ec;\n",
       "  color: #000000;\n",
       "}\n",
       "#T_5fcba_row10_col11 {\n",
       "  background-color: #4292c6;\n",
       "  color: #f1f1f1;\n",
       "}\n",
       "#T_5fcba_row11_col0 {\n",
       "  background-color: #74b3d8;\n",
       "  color: #000000;\n",
       "}\n",
       "#T_5fcba_row11_col3 {\n",
       "  background-color: #e5eff9;\n",
       "  color: #000000;\n",
       "}\n",
       "#T_5fcba_row11_col4 {\n",
       "  background-color: #e2edf8;\n",
       "  color: #000000;\n",
       "}\n",
       "#T_5fcba_row11_col5 {\n",
       "  background-color: #e6f0f9;\n",
       "  color: #000000;\n",
       "}\n",
       "#T_5fcba_row11_col6 {\n",
       "  background-color: #f4f9fe;\n",
       "  color: #000000;\n",
       "}\n",
       "#T_5fcba_row11_col8 {\n",
       "  background-color: #9fcae1;\n",
       "  color: #000000;\n",
       "}\n",
       "#T_5fcba_row11_col9 {\n",
       "  background-color: #91c3de;\n",
       "  color: #000000;\n",
       "}\n",
       "#T_5fcba_row11_col10 {\n",
       "  background-color: #3b8bc2;\n",
       "  color: #f1f1f1;\n",
       "}\n",
       "</style>\n",
       "<table id=\"T_5fcba_\" class=\"dataframe\">\n",
       "  <thead>\n",
       "    <tr>\n",
       "      <th class=\"blank level0\" >&nbsp;</th>\n",
       "      <th class=\"col_heading level0 col0\" >fixed_acidity</th>\n",
       "      <th class=\"col_heading level0 col1\" >volatile_acidity</th>\n",
       "      <th class=\"col_heading level0 col2\" >citric_acid</th>\n",
       "      <th class=\"col_heading level0 col3\" >residual_sugar</th>\n",
       "      <th class=\"col_heading level0 col4\" >chlorides</th>\n",
       "      <th class=\"col_heading level0 col5\" >free_sulfur_dioxide</th>\n",
       "      <th class=\"col_heading level0 col6\" >total_sulfur_dioxide</th>\n",
       "      <th class=\"col_heading level0 col7\" >density</th>\n",
       "      <th class=\"col_heading level0 col8\" >pH</th>\n",
       "      <th class=\"col_heading level0 col9\" >sulphates</th>\n",
       "      <th class=\"col_heading level0 col10\" >alcohol</th>\n",
       "      <th class=\"col_heading level0 col11\" >quality</th>\n",
       "    </tr>\n",
       "  </thead>\n",
       "  <tbody>\n",
       "    <tr>\n",
       "      <th id=\"T_5fcba_level0_row0\" class=\"row_heading level0 row0\" >fixed_acidity</th>\n",
       "      <td id=\"T_5fcba_row0_col0\" class=\"data row0 col0\" >1.000000</td>\n",
       "      <td id=\"T_5fcba_row0_col1\" class=\"data row0 col1\" >-0.256131</td>\n",
       "      <td id=\"T_5fcba_row0_col2\" class=\"data row0 col2\" >0.671703</td>\n",
       "      <td id=\"T_5fcba_row0_col3\" class=\"data row0 col3\" >0.114777</td>\n",
       "      <td id=\"T_5fcba_row0_col4\" class=\"data row0 col4\" >0.093705</td>\n",
       "      <td id=\"T_5fcba_row0_col5\" class=\"data row0 col5\" >-0.153794</td>\n",
       "      <td id=\"T_5fcba_row0_col6\" class=\"data row0 col6\" >-0.113181</td>\n",
       "      <td id=\"T_5fcba_row0_col7\" class=\"data row0 col7\" >0.668047</td>\n",
       "      <td id=\"T_5fcba_row0_col8\" class=\"data row0 col8\" >-0.682978</td>\n",
       "      <td id=\"T_5fcba_row0_col9\" class=\"data row0 col9\" >0.183006</td>\n",
       "      <td id=\"T_5fcba_row0_col10\" class=\"data row0 col10\" >-0.061668</td>\n",
       "      <td id=\"T_5fcba_row0_col11\" class=\"data row0 col11\" >0.124052</td>\n",
       "    </tr>\n",
       "    <tr>\n",
       "      <th id=\"T_5fcba_level0_row1\" class=\"row_heading level0 row1\" >volatile_acidity</th>\n",
       "      <td id=\"T_5fcba_row1_col0\" class=\"data row1 col0\" >-0.256131</td>\n",
       "      <td id=\"T_5fcba_row1_col1\" class=\"data row1 col1\" >1.000000</td>\n",
       "      <td id=\"T_5fcba_row1_col2\" class=\"data row1 col2\" >-0.552496</td>\n",
       "      <td id=\"T_5fcba_row1_col3\" class=\"data row1 col3\" >0.001918</td>\n",
       "      <td id=\"T_5fcba_row1_col4\" class=\"data row1 col4\" >0.061298</td>\n",
       "      <td id=\"T_5fcba_row1_col5\" class=\"data row1 col5\" >-0.010504</td>\n",
       "      <td id=\"T_5fcba_row1_col6\" class=\"data row1 col6\" >0.076470</td>\n",
       "      <td id=\"T_5fcba_row1_col7\" class=\"data row1 col7\" >0.022026</td>\n",
       "      <td id=\"T_5fcba_row1_col8\" class=\"data row1 col8\" >0.234937</td>\n",
       "      <td id=\"T_5fcba_row1_col9\" class=\"data row1 col9\" >-0.260987</td>\n",
       "      <td id=\"T_5fcba_row1_col10\" class=\"data row1 col10\" >-0.202288</td>\n",
       "      <td id=\"T_5fcba_row1_col11\" class=\"data row1 col11\" >-0.390558</td>\n",
       "    </tr>\n",
       "    <tr>\n",
       "      <th id=\"T_5fcba_level0_row2\" class=\"row_heading level0 row2\" >citric_acid</th>\n",
       "      <td id=\"T_5fcba_row2_col0\" class=\"data row2 col0\" >0.671703</td>\n",
       "      <td id=\"T_5fcba_row2_col1\" class=\"data row2 col1\" >-0.552496</td>\n",
       "      <td id=\"T_5fcba_row2_col2\" class=\"data row2 col2\" >1.000000</td>\n",
       "      <td id=\"T_5fcba_row2_col3\" class=\"data row2 col3\" >0.143577</td>\n",
       "      <td id=\"T_5fcba_row2_col4\" class=\"data row2 col4\" >0.203823</td>\n",
       "      <td id=\"T_5fcba_row2_col5\" class=\"data row2 col5\" >-0.060978</td>\n",
       "      <td id=\"T_5fcba_row2_col6\" class=\"data row2 col6\" >0.035533</td>\n",
       "      <td id=\"T_5fcba_row2_col7\" class=\"data row2 col7\" >0.364947</td>\n",
       "      <td id=\"T_5fcba_row2_col8\" class=\"data row2 col8\" >-0.541904</td>\n",
       "      <td id=\"T_5fcba_row2_col9\" class=\"data row2 col9\" >0.312770</td>\n",
       "      <td id=\"T_5fcba_row2_col10\" class=\"data row2 col10\" >0.109903</td>\n",
       "      <td id=\"T_5fcba_row2_col11\" class=\"data row2 col11\" >0.226373</td>\n",
       "    </tr>\n",
       "    <tr>\n",
       "      <th id=\"T_5fcba_level0_row3\" class=\"row_heading level0 row3\" >residual_sugar</th>\n",
       "      <td id=\"T_5fcba_row3_col0\" class=\"data row3 col0\" >0.114777</td>\n",
       "      <td id=\"T_5fcba_row3_col1\" class=\"data row3 col1\" >0.001918</td>\n",
       "      <td id=\"T_5fcba_row3_col2\" class=\"data row3 col2\" >0.143577</td>\n",
       "      <td id=\"T_5fcba_row3_col3\" class=\"data row3 col3\" >1.000000</td>\n",
       "      <td id=\"T_5fcba_row3_col4\" class=\"data row3 col4\" >0.055610</td>\n",
       "      <td id=\"T_5fcba_row3_col5\" class=\"data row3 col5\" >0.187049</td>\n",
       "      <td id=\"T_5fcba_row3_col6\" class=\"data row3 col6\" >0.203028</td>\n",
       "      <td id=\"T_5fcba_row3_col7\" class=\"data row3 col7\" >0.355283</td>\n",
       "      <td id=\"T_5fcba_row3_col8\" class=\"data row3 col8\" >-0.085652</td>\n",
       "      <td id=\"T_5fcba_row3_col9\" class=\"data row3 col9\" >0.005527</td>\n",
       "      <td id=\"T_5fcba_row3_col10\" class=\"data row3 col10\" >0.042075</td>\n",
       "      <td id=\"T_5fcba_row3_col11\" class=\"data row3 col11\" >0.013732</td>\n",
       "    </tr>\n",
       "    <tr>\n",
       "      <th id=\"T_5fcba_level0_row4\" class=\"row_heading level0 row4\" >chlorides</th>\n",
       "      <td id=\"T_5fcba_row4_col0\" class=\"data row4 col0\" >0.093705</td>\n",
       "      <td id=\"T_5fcba_row4_col1\" class=\"data row4 col1\" >0.061298</td>\n",
       "      <td id=\"T_5fcba_row4_col2\" class=\"data row4 col2\" >0.203823</td>\n",
       "      <td id=\"T_5fcba_row4_col3\" class=\"data row4 col3\" >0.055610</td>\n",
       "      <td id=\"T_5fcba_row4_col4\" class=\"data row4 col4\" >1.000000</td>\n",
       "      <td id=\"T_5fcba_row4_col5\" class=\"data row4 col5\" >0.005562</td>\n",
       "      <td id=\"T_5fcba_row4_col6\" class=\"data row4 col6\" >0.047400</td>\n",
       "      <td id=\"T_5fcba_row4_col7\" class=\"data row4 col7\" >0.200632</td>\n",
       "      <td id=\"T_5fcba_row4_col8\" class=\"data row4 col8\" >-0.265026</td>\n",
       "      <td id=\"T_5fcba_row4_col9\" class=\"data row4 col9\" >0.371260</td>\n",
       "      <td id=\"T_5fcba_row4_col10\" class=\"data row4 col10\" >-0.221141</td>\n",
       "      <td id=\"T_5fcba_row4_col11\" class=\"data row4 col11\" >-0.128907</td>\n",
       "    </tr>\n",
       "    <tr>\n",
       "      <th id=\"T_5fcba_level0_row5\" class=\"row_heading level0 row5\" >free_sulfur_dioxide</th>\n",
       "      <td id=\"T_5fcba_row5_col0\" class=\"data row5 col0\" >-0.153794</td>\n",
       "      <td id=\"T_5fcba_row5_col1\" class=\"data row5 col1\" >-0.010504</td>\n",
       "      <td id=\"T_5fcba_row5_col2\" class=\"data row5 col2\" >-0.060978</td>\n",
       "      <td id=\"T_5fcba_row5_col3\" class=\"data row5 col3\" >0.187049</td>\n",
       "      <td id=\"T_5fcba_row5_col4\" class=\"data row5 col4\" >0.005562</td>\n",
       "      <td id=\"T_5fcba_row5_col5\" class=\"data row5 col5\" >1.000000</td>\n",
       "      <td id=\"T_5fcba_row5_col6\" class=\"data row5 col6\" >0.667666</td>\n",
       "      <td id=\"T_5fcba_row5_col7\" class=\"data row5 col7\" >-0.021946</td>\n",
       "      <td id=\"T_5fcba_row5_col8\" class=\"data row5 col8\" >0.070377</td>\n",
       "      <td id=\"T_5fcba_row5_col9\" class=\"data row5 col9\" >0.051658</td>\n",
       "      <td id=\"T_5fcba_row5_col10\" class=\"data row5 col10\" >-0.069408</td>\n",
       "      <td id=\"T_5fcba_row5_col11\" class=\"data row5 col11\" >-0.050656</td>\n",
       "    </tr>\n",
       "    <tr>\n",
       "      <th id=\"T_5fcba_level0_row6\" class=\"row_heading level0 row6\" >total_sulfur_dioxide</th>\n",
       "      <td id=\"T_5fcba_row6_col0\" class=\"data row6 col0\" >-0.113181</td>\n",
       "      <td id=\"T_5fcba_row6_col1\" class=\"data row6 col1\" >0.076470</td>\n",
       "      <td id=\"T_5fcba_row6_col2\" class=\"data row6 col2\" >0.035533</td>\n",
       "      <td id=\"T_5fcba_row6_col3\" class=\"data row6 col3\" >0.203028</td>\n",
       "      <td id=\"T_5fcba_row6_col4\" class=\"data row6 col4\" >0.047400</td>\n",
       "      <td id=\"T_5fcba_row6_col5\" class=\"data row6 col5\" >0.667666</td>\n",
       "      <td id=\"T_5fcba_row6_col6\" class=\"data row6 col6\" >1.000000</td>\n",
       "      <td id=\"T_5fcba_row6_col7\" class=\"data row6 col7\" >0.071269</td>\n",
       "      <td id=\"T_5fcba_row6_col8\" class=\"data row6 col8\" >-0.066495</td>\n",
       "      <td id=\"T_5fcba_row6_col9\" class=\"data row6 col9\" >0.042947</td>\n",
       "      <td id=\"T_5fcba_row6_col10\" class=\"data row6 col10\" >-0.205654</td>\n",
       "      <td id=\"T_5fcba_row6_col11\" class=\"data row6 col11\" >-0.185100</td>\n",
       "    </tr>\n",
       "    <tr>\n",
       "      <th id=\"T_5fcba_level0_row7\" class=\"row_heading level0 row7\" >density</th>\n",
       "      <td id=\"T_5fcba_row7_col0\" class=\"data row7 col0\" >0.668047</td>\n",
       "      <td id=\"T_5fcba_row7_col1\" class=\"data row7 col1\" >0.022026</td>\n",
       "      <td id=\"T_5fcba_row7_col2\" class=\"data row7 col2\" >0.364947</td>\n",
       "      <td id=\"T_5fcba_row7_col3\" class=\"data row7 col3\" >0.355283</td>\n",
       "      <td id=\"T_5fcba_row7_col4\" class=\"data row7 col4\" >0.200632</td>\n",
       "      <td id=\"T_5fcba_row7_col5\" class=\"data row7 col5\" >-0.021946</td>\n",
       "      <td id=\"T_5fcba_row7_col6\" class=\"data row7 col6\" >0.071269</td>\n",
       "      <td id=\"T_5fcba_row7_col7\" class=\"data row7 col7\" >1.000000</td>\n",
       "      <td id=\"T_5fcba_row7_col8\" class=\"data row7 col8\" >-0.341699</td>\n",
       "      <td id=\"T_5fcba_row7_col9\" class=\"data row7 col9\" >0.148506</td>\n",
       "      <td id=\"T_5fcba_row7_col10\" class=\"data row7 col10\" >-0.496180</td>\n",
       "      <td id=\"T_5fcba_row7_col11\" class=\"data row7 col11\" >-0.174919</td>\n",
       "    </tr>\n",
       "    <tr>\n",
       "      <th id=\"T_5fcba_level0_row8\" class=\"row_heading level0 row8\" >pH</th>\n",
       "      <td id=\"T_5fcba_row8_col0\" class=\"data row8 col0\" >-0.682978</td>\n",
       "      <td id=\"T_5fcba_row8_col1\" class=\"data row8 col1\" >0.234937</td>\n",
       "      <td id=\"T_5fcba_row8_col2\" class=\"data row8 col2\" >-0.541904</td>\n",
       "      <td id=\"T_5fcba_row8_col3\" class=\"data row8 col3\" >-0.085652</td>\n",
       "      <td id=\"T_5fcba_row8_col4\" class=\"data row8 col4\" >-0.265026</td>\n",
       "      <td id=\"T_5fcba_row8_col5\" class=\"data row8 col5\" >0.070377</td>\n",
       "      <td id=\"T_5fcba_row8_col6\" class=\"data row8 col6\" >-0.066495</td>\n",
       "      <td id=\"T_5fcba_row8_col7\" class=\"data row8 col7\" >-0.341699</td>\n",
       "      <td id=\"T_5fcba_row8_col8\" class=\"data row8 col8\" >1.000000</td>\n",
       "      <td id=\"T_5fcba_row8_col9\" class=\"data row8 col9\" >-0.196648</td>\n",
       "      <td id=\"T_5fcba_row8_col10\" class=\"data row8 col10\" >0.205633</td>\n",
       "      <td id=\"T_5fcba_row8_col11\" class=\"data row8 col11\" >-0.057731</td>\n",
       "    </tr>\n",
       "    <tr>\n",
       "      <th id=\"T_5fcba_level0_row9\" class=\"row_heading level0 row9\" >sulphates</th>\n",
       "      <td id=\"T_5fcba_row9_col0\" class=\"data row9 col0\" >0.183006</td>\n",
       "      <td id=\"T_5fcba_row9_col1\" class=\"data row9 col1\" >-0.260987</td>\n",
       "      <td id=\"T_5fcba_row9_col2\" class=\"data row9 col2\" >0.312770</td>\n",
       "      <td id=\"T_5fcba_row9_col3\" class=\"data row9 col3\" >0.005527</td>\n",
       "      <td id=\"T_5fcba_row9_col4\" class=\"data row9 col4\" >0.371260</td>\n",
       "      <td id=\"T_5fcba_row9_col5\" class=\"data row9 col5\" >0.051658</td>\n",
       "      <td id=\"T_5fcba_row9_col6\" class=\"data row9 col6\" >0.042947</td>\n",
       "      <td id=\"T_5fcba_row9_col7\" class=\"data row9 col7\" >0.148506</td>\n",
       "      <td id=\"T_5fcba_row9_col8\" class=\"data row9 col8\" >-0.196648</td>\n",
       "      <td id=\"T_5fcba_row9_col9\" class=\"data row9 col9\" >1.000000</td>\n",
       "      <td id=\"T_5fcba_row9_col10\" class=\"data row9 col10\" >0.093595</td>\n",
       "      <td id=\"T_5fcba_row9_col11\" class=\"data row9 col11\" >0.251397</td>\n",
       "    </tr>\n",
       "    <tr>\n",
       "      <th id=\"T_5fcba_level0_row10\" class=\"row_heading level0 row10\" >alcohol</th>\n",
       "      <td id=\"T_5fcba_row10_col0\" class=\"data row10 col0\" >-0.061668</td>\n",
       "      <td id=\"T_5fcba_row10_col1\" class=\"data row10 col1\" >-0.202288</td>\n",
       "      <td id=\"T_5fcba_row10_col2\" class=\"data row10 col2\" >0.109903</td>\n",
       "      <td id=\"T_5fcba_row10_col3\" class=\"data row10 col3\" >0.042075</td>\n",
       "      <td id=\"T_5fcba_row10_col4\" class=\"data row10 col4\" >-0.221141</td>\n",
       "      <td id=\"T_5fcba_row10_col5\" class=\"data row10 col5\" >-0.069408</td>\n",
       "      <td id=\"T_5fcba_row10_col6\" class=\"data row10 col6\" >-0.205654</td>\n",
       "      <td id=\"T_5fcba_row10_col7\" class=\"data row10 col7\" >-0.496180</td>\n",
       "      <td id=\"T_5fcba_row10_col8\" class=\"data row10 col8\" >0.205633</td>\n",
       "      <td id=\"T_5fcba_row10_col9\" class=\"data row10 col9\" >0.093595</td>\n",
       "      <td id=\"T_5fcba_row10_col10\" class=\"data row10 col10\" >1.000000</td>\n",
       "      <td id=\"T_5fcba_row10_col11\" class=\"data row10 col11\" >0.476166</td>\n",
       "    </tr>\n",
       "    <tr>\n",
       "      <th id=\"T_5fcba_level0_row11\" class=\"row_heading level0 row11\" >quality</th>\n",
       "      <td id=\"T_5fcba_row11_col0\" class=\"data row11 col0\" >0.124052</td>\n",
       "      <td id=\"T_5fcba_row11_col1\" class=\"data row11 col1\" >-0.390558</td>\n",
       "      <td id=\"T_5fcba_row11_col2\" class=\"data row11 col2\" >0.226373</td>\n",
       "      <td id=\"T_5fcba_row11_col3\" class=\"data row11 col3\" >0.013732</td>\n",
       "      <td id=\"T_5fcba_row11_col4\" class=\"data row11 col4\" >-0.128907</td>\n",
       "      <td id=\"T_5fcba_row11_col5\" class=\"data row11 col5\" >-0.050656</td>\n",
       "      <td id=\"T_5fcba_row11_col6\" class=\"data row11 col6\" >-0.185100</td>\n",
       "      <td id=\"T_5fcba_row11_col7\" class=\"data row11 col7\" >-0.174919</td>\n",
       "      <td id=\"T_5fcba_row11_col8\" class=\"data row11 col8\" >-0.057731</td>\n",
       "      <td id=\"T_5fcba_row11_col9\" class=\"data row11 col9\" >0.251397</td>\n",
       "      <td id=\"T_5fcba_row11_col10\" class=\"data row11 col10\" >0.476166</td>\n",
       "      <td id=\"T_5fcba_row11_col11\" class=\"data row11 col11\" >1.000000</td>\n",
       "    </tr>\n",
       "  </tbody>\n",
       "</table>\n"
      ],
      "text/plain": [
       "<pandas.io.formats.style.Styler at 0x7f939cc68a50>"
      ]
     },
     "execution_count": 13,
     "metadata": {},
     "output_type": "execute_result"
    }
   ],
   "source": [
    "# The correlation coefficient matrix\n",
    "red.corr().style.background_gradient(cmap='Blues')"
   ]
  },
  {
   "cell_type": "markdown",
   "metadata": {
    "id": "fWuhF9M7rz9i"
   },
   "source": [
    "There is a greatest influence on free sulfur dioxide and total sulfur dioxide, which has a correlation coefficient of approximately 0.67.\n",
    "The following figure shows the relationship between them."
   ]
  },
  {
   "cell_type": "code",
   "execution_count": 14,
   "metadata": {
    "colab": {
     "base_uri": "https://localhost:8080/",
     "height": 314
    },
    "id": "w441bl0fsAOH",
    "outputId": "429f10c6-aa51-41be-a53e-801be784f0fd"
   },
   "outputs": [
    {
     "data": {
      "text/plain": [
       "Text(0.5, 1.0, 'The relationship between free sulfur dioxide and total sulfur dioxide')"
      ]
     },
     "execution_count": 14,
     "metadata": {},
     "output_type": "execute_result"
    },
    {
     "data": {
      "image/png": "[encoded data removed]",
      "text/plain": [
       "<Figure size 432x288 with 1 Axes>"
      ]
     },
     "metadata": {
      "needs_background": "light"
     },
     "output_type": "display_data"
    }
   ],
   "source": [
    "# The plot of relationship between free sulfur dioxide and total sulfur dioxide\n",
    "plt.figure()\n",
    "sns.regplot(x = 'free_sulfur_dioxide',y = 'total_sulfur_dioxide',data = red)\n",
    "plt.title('The relationship between free sulfur dioxide and total sulfur dioxide')"
   ]
  },
  {
   "cell_type": "markdown",
   "metadata": {
    "id": "Tny-F3LSpV94"
   },
   "source": [
    "The correlation coefficient matrix shows that volatile acidity and alcohol have a strong influence on the quality of red wine. \n",
    "The following figure shows the relationship between them."
   ]
  },
  {
   "cell_type": "code",
   "execution_count": 15,
   "metadata": {
    "colab": {
     "base_uri": "https://localhost:8080/",
     "height": 403
    },
    "id": "G5HWSriVoWac",
    "outputId": "e11c9dfd-fa29-4970-b222-c2679d97f8c0"
   },
   "outputs": [
    {
     "data": {
      "text/plain": [
       "Text(0.5, 1.0, 'Scatter plots of quality, alcohol, and volatile acidity of red wine')"
      ]
     },
     "execution_count": 15,
     "metadata": {},
     "output_type": "execute_result"
    },
    {
     "data": {
      "image/png": "[encoded data removed]",
      "text/plain": [
       "<Figure size 402.375x360 with 1 Axes>"
      ]
     },
     "metadata": {
      "needs_background": "light"
     },
     "output_type": "display_data"
    }
   ],
   "source": [
    "# Scatter plots of quality, alcohol, and volatile acidity of red wine\n",
    "sns.lmplot (x = 'alcohol',y = 'volatile_acidity',hue = 'quality',\n",
    "            data = red,fit_reg = False)\n",
    "plt.title('Scatter plots of quality, alcohol, and volatile acidity of red wine')"
   ]
  },
  {
   "cell_type": "markdown",
   "metadata": {
    "id": "cgBbNIGNRtqO"
   },
   "source": [
    "Red wine:\n",
    "\n",
    "The correlation coefficient matrix shows that volatile acidity and alcohol have a strong influence on the quality of red wine. The greatest influence on wine quality is the wine is alcohol, which has a correlation coefficient of approximately 0.48.\n",
    "* Most of the red wines its quality in the middle\n",
    "* Alcohol is positively correlated with quality, with the higher the degree the higher the quality tends to increase\n",
    "* Volatile acids are negatively correlated with quality, the higher the acidity the lower the quality tends to be\n",
    "* The higher the free sulphur dioxide, the higher the total sulphur dioxide\n",
    "\n",
    "\n"
   ]
  },
  {
   "cell_type": "markdown",
   "metadata": {
    "id": "p91EljhHtbMs"
   },
   "source": [
    "## White wine"
   ]
  },
  {
   "cell_type": "code",
   "execution_count": 16,
   "metadata": {
    "colab": {
     "base_uri": "https://localhost:8080/"
    },
    "id": "MbQHp7VEtbMt",
    "outputId": "0bef5bc5-c2f7-4dbc-8cad-25e0a6aabd82"
   },
   "outputs": [
    {
     "data": {
      "text/plain": [
       "(4898, 12)"
      ]
     },
     "execution_count": 16,
     "metadata": {},
     "output_type": "execute_result"
    }
   ],
   "source": [
    "white.shape"
   ]
  },
  {
   "cell_type": "code",
   "execution_count": 17,
   "metadata": {
    "colab": {
     "base_uri": "https://localhost:8080/",
     "height": 364
    },
    "id": "S7ZsoA55tbMu",
    "outputId": "04c8d544-eb01-40d6-8d18-4a3d58cdd3f3"
   },
   "outputs": [
    {
     "data": {
      "text/html": [
       "\n",
       "  <div id=\"df-dd9972a3-a25b-4520-b3da-47282ab12f58\">\n",
       "    <div class=\"colab-df-container\">\n",
       "      <div>\n",
       "<style scoped>\n",
       "    .dataframe tbody tr th:only-of-type {\n",
       "        vertical-align: middle;\n",
       "    }\n",
       "\n",
       "    .dataframe tbody tr th {\n",
       "        vertical-align: top;\n",
       "    }\n",
       "\n",
       "    .dataframe thead th {\n",
       "        text-align: right;\n",
       "    }\n",
       "</style>\n",
       "<table border=\"1\" class=\"dataframe\">\n",
       "  <thead>\n",
       "    <tr style=\"text-align: right;\">\n",
       "      <th></th>\n",
       "      <th>fixed_acidity</th>\n",
       "      <th>volatile_acidity</th>\n",
       "      <th>citric_acid</th>\n",
       "      <th>residual_sugar</th>\n",
       "      <th>chlorides</th>\n",
       "      <th>free_sulfur_dioxide</th>\n",
       "      <th>total_sulfur_dioxide</th>\n",
       "      <th>density</th>\n",
       "      <th>pH</th>\n",
       "      <th>sulphates</th>\n",
       "      <th>alcohol</th>\n",
       "      <th>quality</th>\n",
       "    </tr>\n",
       "  </thead>\n",
       "  <tbody>\n",
       "    <tr>\n",
       "      <th>count</th>\n",
       "      <td>4898.000000</td>\n",
       "      <td>4898.000000</td>\n",
       "      <td>4898.000000</td>\n",
       "      <td>4898.000000</td>\n",
       "      <td>4898.000000</td>\n",
       "      <td>4898.000000</td>\n",
       "      <td>4898.000000</td>\n",
       "      <td>4898.000000</td>\n",
       "      <td>4898.000000</td>\n",
       "      <td>4898.000000</td>\n",
       "      <td>4898.000000</td>\n",
       "      <td>4898.000000</td>\n",
       "    </tr>\n",
       "    <tr>\n",
       "      <th>mean</th>\n",
       "      <td>6.854788</td>\n",
       "      <td>0.278241</td>\n",
       "      <td>0.334192</td>\n",
       "      <td>6.391415</td>\n",
       "      <td>0.045772</td>\n",
       "      <td>35.308085</td>\n",
       "      <td>138.360657</td>\n",
       "      <td>0.994027</td>\n",
       "      <td>3.188267</td>\n",
       "      <td>0.489847</td>\n",
       "      <td>10.514267</td>\n",
       "      <td>5.877909</td>\n",
       "    </tr>\n",
       "    <tr>\n",
       "      <th>std</th>\n",
       "      <td>0.843868</td>\n",
       "      <td>0.100795</td>\n",
       "      <td>0.121020</td>\n",
       "      <td>5.072058</td>\n",
       "      <td>0.021848</td>\n",
       "      <td>17.007137</td>\n",
       "      <td>42.498065</td>\n",
       "      <td>0.002991</td>\n",
       "      <td>0.151001</td>\n",
       "      <td>0.114126</td>\n",
       "      <td>1.230621</td>\n",
       "      <td>0.885639</td>\n",
       "    </tr>\n",
       "    <tr>\n",
       "      <th>min</th>\n",
       "      <td>3.800000</td>\n",
       "      <td>0.080000</td>\n",
       "      <td>0.000000</td>\n",
       "      <td>0.600000</td>\n",
       "      <td>0.009000</td>\n",
       "      <td>2.000000</td>\n",
       "      <td>9.000000</td>\n",
       "      <td>0.987110</td>\n",
       "      <td>2.720000</td>\n",
       "      <td>0.220000</td>\n",
       "      <td>8.000000</td>\n",
       "      <td>3.000000</td>\n",
       "    </tr>\n",
       "    <tr>\n",
       "      <th>25%</th>\n",
       "      <td>6.300000</td>\n",
       "      <td>0.210000</td>\n",
       "      <td>0.270000</td>\n",
       "      <td>1.700000</td>\n",
       "      <td>0.036000</td>\n",
       "      <td>23.000000</td>\n",
       "      <td>108.000000</td>\n",
       "      <td>0.991723</td>\n",
       "      <td>3.090000</td>\n",
       "      <td>0.410000</td>\n",
       "      <td>9.500000</td>\n",
       "      <td>5.000000</td>\n",
       "    </tr>\n",
       "    <tr>\n",
       "      <th>50%</th>\n",
       "      <td>6.800000</td>\n",
       "      <td>0.260000</td>\n",
       "      <td>0.320000</td>\n",
       "      <td>5.200000</td>\n",
       "      <td>0.043000</td>\n",
       "      <td>34.000000</td>\n",
       "      <td>134.000000</td>\n",
       "      <td>0.993740</td>\n",
       "      <td>3.180000</td>\n",
       "      <td>0.470000</td>\n",
       "      <td>10.400000</td>\n",
       "      <td>6.000000</td>\n",
       "    </tr>\n",
       "    <tr>\n",
       "      <th>75%</th>\n",
       "      <td>7.300000</td>\n",
       "      <td>0.320000</td>\n",
       "      <td>0.390000</td>\n",
       "      <td>9.900000</td>\n",
       "      <td>0.050000</td>\n",
       "      <td>46.000000</td>\n",
       "      <td>167.000000</td>\n",
       "      <td>0.996100</td>\n",
       "      <td>3.280000</td>\n",
       "      <td>0.550000</td>\n",
       "      <td>11.400000</td>\n",
       "      <td>6.000000</td>\n",
       "    </tr>\n",
       "    <tr>\n",
       "      <th>max</th>\n",
       "      <td>14.200000</td>\n",
       "      <td>1.100000</td>\n",
       "      <td>1.660000</td>\n",
       "      <td>65.800000</td>\n",
       "      <td>0.346000</td>\n",
       "      <td>289.000000</td>\n",
       "      <td>440.000000</td>\n",
       "      <td>1.038980</td>\n",
       "      <td>3.820000</td>\n",
       "      <td>1.080000</td>\n",
       "      <td>14.200000</td>\n",
       "      <td>9.000000</td>\n",
       "    </tr>\n",
       "  </tbody>\n",
       "</table>\n",
       "</div>\n",
       "      <button class=\"colab-df-convert\" onclick=\"convertToInteractive('df-dd9972a3-a25b-4520-b3da-47282ab12f58')\"\n",
       "              title=\"Convert this dataframe to an interactive table.\"\n",
       "              style=\"display:none;\">\n",
       "        \n",
       "  <svg xmlns=\"http://www.w3.org/2000/svg\" height=\"24px\"viewBox=\"0 0 24 24\"\n",
       "       width=\"24px\">\n",
       "    <path d=\"M0 0h24v24H0V0z\" fill=\"none\"/>\n",
       "    <path d=\"M18.56 5.44l.94 2.06.94-2.06 2.06-.94-2.06-.94-.94-2.06-.94 2.06-2.06.94zm-11 1L8.5 8.5l.94-2.06 2.06-.94-2.06-.94L8.5 2.5l-.94 2.06-2.06.94zm10 10l.94 2.06.94-2.06 2.06-.94-2.06-.94-.94-2.06-.94 2.06-2.06.94z\"/><path d=\"M17.41 7.96l-1.37-1.37c-.4-.4-.92-.59-1.43-.59-.52 0-1.04.2-1.43.59L10.3 9.45l-7.72 7.72c-.78.78-.78 2.05 0 2.83L4 21.41c.39.39.9.59 1.41.59.51 0 1.02-.2 1.41-.59l7.78-7.78 2.81-2.81c.8-.78.8-2.07 0-2.86zM5.41 20L4 18.59l7.72-7.72 1.47 1.35L5.41 20z\"/>\n",
       "  </svg>\n",
       "      </button>\n",
       "      \n",
       "  <style>\n",
       "    .colab-df-container {\n",
       "      display:flex;\n",
       "      flex-wrap:wrap;\n",
       "      gap: 12px;\n",
       "    }\n",
       "\n",
       "    .colab-df-convert {\n",
       "      background-color: #E8F0FE;\n",
       "      border: none;\n",
       "      border-radius: 50%;\n",
       "      cursor: pointer;\n",
       "      display: none;\n",
       "      fill: #1967D2;\n",
       "      height: 32px;\n",
       "      padding: 0 0 0 0;\n",
       "      width: 32px;\n",
       "    }\n",
       "\n",
       "    .colab-df-convert:hover {\n",
       "      background-color: #E2EBFA;\n",
       "      box-shadow: 0px 1px 2px rgba(60, 64, 67, 0.3), 0px 1px 3px 1px rgba(60, 64, 67, 0.15);\n",
       "      fill: #174EA6;\n",
       "    }\n",
       "\n",
       "    [theme=dark] .colab-df-convert {\n",
       "      background-color: #3B4455;\n",
       "      fill: #D2E3FC;\n",
       "    }\n",
       "\n",
       "    [theme=dark] .colab-df-convert:hover {\n",
       "      background-color: #434B5C;\n",
       "      box-shadow: 0px 1px 3px 1px rgba(0, 0, 0, 0.15);\n",
       "      filter: drop-shadow(0px 1px 2px rgba(0, 0, 0, 0.3));\n",
       "      fill: #FFFFFF;\n",
       "    }\n",
       "  </style>\n",
       "\n",
       "      <script>\n",
       "        const buttonEl =\n",
       "          document.querySelector('#df-dd9972a3-a25b-4520-b3da-47282ab12f58 button.colab-df-convert');\n",
       "        buttonEl.style.display =\n",
       "          google.colab.kernel.accessAllowed ? 'block' : 'none';\n",
       "\n",
       "        async function convertToInteractive(key) {\n",
       "          const element = document.querySelector('#df-dd9972a3-a25b-4520-b3da-47282ab12f58');\n",
       "          const dataTable =\n",
       "            await google.colab.kernel.invokeFunction('convertToInteractive',\n",
       "                                                     [key], {});\n",
       "          if (!dataTable) return;\n",
       "\n",
       "          const docLinkHtml = 'Like what you see? Visit the ' +\n",
       "            '<a target=\"_blank\" href=https://colab.research.google.com/notebooks/data_table.ipynb>data table notebook</a>'\n",
       "            + ' to learn more about interactive tables.';\n",
       "          element.innerHTML = '';\n",
       "          dataTable['output_type'] = 'display_data';\n",
       "          await google.colab.output.renderOutput(dataTable, element);\n",
       "          const docLink = document.createElement('div');\n",
       "          docLink.innerHTML = docLinkHtml;\n",
       "          element.appendChild(docLink);\n",
       "        }\n",
       "      </script>\n",
       "    </div>\n",
       "  </div>\n",
       "  "
      ],
      "text/plain": [
       "       fixed_acidity  volatile_acidity  citric_acid  residual_sugar  \\\n",
       "count    4898.000000       4898.000000  4898.000000     4898.000000   \n",
       "mean        6.854788          0.278241     0.334192        6.391415   \n",
       "std         0.843868          0.100795     0.121020        5.072058   \n",
       "min         3.800000          0.080000     0.000000        0.600000   \n",
       "25%         6.300000          0.210000     0.270000        1.700000   \n",
       "50%         6.800000          0.260000     0.320000        5.200000   \n",
       "75%         7.300000          0.320000     0.390000        9.900000   \n",
       "max        14.200000          1.100000     1.660000       65.800000   \n",
       "\n",
       "         chlorides  free_sulfur_dioxide  total_sulfur_dioxide      density  \\\n",
       "count  4898.000000          4898.000000           4898.000000  4898.000000   \n",
       "mean      0.045772            35.308085            138.360657     0.994027   \n",
       "std       0.021848            17.007137             42.498065     0.002991   \n",
       "min       0.009000             2.000000              9.000000     0.987110   \n",
       "25%       0.036000            23.000000            108.000000     0.991723   \n",
       "50%       0.043000            34.000000            134.000000     0.993740   \n",
       "75%       0.050000            46.000000            167.000000     0.996100   \n",
       "max       0.346000           289.000000            440.000000     1.038980   \n",
       "\n",
       "                pH    sulphates      alcohol      quality  \n",
       "count  4898.000000  4898.000000  4898.000000  4898.000000  \n",
       "mean      3.188267     0.489847    10.514267     5.877909  \n",
       "std       0.151001     0.114126     1.230621     0.885639  \n",
       "min       2.720000     0.220000     8.000000     3.000000  \n",
       "25%       3.090000     0.410000     9.500000     5.000000  \n",
       "50%       3.180000     0.470000    10.400000     6.000000  \n",
       "75%       3.280000     0.550000    11.400000     6.000000  \n",
       "max       3.820000     1.080000    14.200000     9.000000  "
      ]
     },
     "execution_count": 17,
     "metadata": {},
     "output_type": "execute_result"
    }
   ],
   "source": [
    "white.describe()"
   ]
  },
  {
   "cell_type": "code",
   "execution_count": 18,
   "metadata": {
    "colab": {
     "base_uri": "https://localhost:8080/"
    },
    "id": "JcIU2oe-tbMu",
    "outputId": "8b6026f9-dfca-4702-8189-16e95458fb5f"
   },
   "outputs": [
    {
     "data": {
      "text/plain": [
       "fixed_acidity           float64\n",
       "volatile_acidity        float64\n",
       "citric_acid             float64\n",
       "residual_sugar          float64\n",
       "chlorides               float64\n",
       "free_sulfur_dioxide     float64\n",
       "total_sulfur_dioxide    float64\n",
       "density                 float64\n",
       "pH                      float64\n",
       "sulphates               float64\n",
       "alcohol                 float64\n",
       "quality                   int64\n",
       "dtype: object"
      ]
     },
     "execution_count": 18,
     "metadata": {},
     "output_type": "execute_result"
    }
   ],
   "source": [
    "#Data types of the features\n",
    "white.dtypes"
   ]
  },
  {
   "cell_type": "code",
   "execution_count": 19,
   "metadata": {
    "colab": {
     "base_uri": "https://localhost:8080/"
    },
    "id": "ixv5e64itbMu",
    "outputId": "fb3e8956-ee6d-4a49-d594-c8084cb2269d"
   },
   "outputs": [
    {
     "data": {
      "text/plain": [
       "fixed_acidity           0\n",
       "volatile_acidity        0\n",
       "citric_acid             0\n",
       "residual_sugar          0\n",
       "chlorides               0\n",
       "free_sulfur_dioxide     0\n",
       "total_sulfur_dioxide    0\n",
       "density                 0\n",
       "pH                      0\n",
       "sulphates               0\n",
       "alcohol                 0\n",
       "quality                 0\n",
       "dtype: int64"
      ]
     },
     "execution_count": 19,
     "metadata": {},
     "output_type": "execute_result"
    }
   ],
   "source": [
    "#Check for missing values\n",
    "white.isnull().sum(axis = 0) "
   ]
  },
  {
   "cell_type": "code",
   "execution_count": 20,
   "metadata": {
    "colab": {
     "base_uri": "https://localhost:8080/",
     "height": 948
    },
    "id": "86-qbuzEtbMu",
    "outputId": "0da719b5-1441-4611-9bc6-92e08e8c6a6b"
   },
   "outputs": [
    {
     "data": {
      "text/plain": [
       "array([[<matplotlib.axes._subplots.AxesSubplot object at 0x7f93996ed110>,\n",
       "        <matplotlib.axes._subplots.AxesSubplot object at 0x7f93997171d0>,\n",
       "        <matplotlib.axes._subplots.AxesSubplot object at 0x7f9397ed2910>],\n",
       "       [<matplotlib.axes._subplots.AxesSubplot object at 0x7f9397e8af10>,\n",
       "        <matplotlib.axes._subplots.AxesSubplot object at 0x7f9397e4b550>,\n",
       "        <matplotlib.axes._subplots.AxesSubplot object at 0x7f9397e01b50>],\n",
       "       [<matplotlib.axes._subplots.AxesSubplot object at 0x7f9397dc3210>,\n",
       "        <matplotlib.axes._subplots.AxesSubplot object at 0x7f9397d7b750>,\n",
       "        <matplotlib.axes._subplots.AxesSubplot object at 0x7f9397d7b790>],\n",
       "       [<matplotlib.axes._subplots.AxesSubplot object at 0x7f9397d31e90>,\n",
       "        <matplotlib.axes._subplots.AxesSubplot object at 0x7f9397cad9d0>,\n",
       "        <matplotlib.axes._subplots.AxesSubplot object at 0x7f9397cdbb10>]],\n",
       "      dtype=object)"
      ]
     },
     "execution_count": 20,
     "metadata": {},
     "output_type": "execute_result"
    },
    {
     "data": {
      "image/png": "[encoded data removed]",
      "text/plain": [
       "<Figure size 864x864 with 12 Axes>"
      ]
     },
     "metadata": {
      "needs_background": "light"
     },
     "output_type": "display_data"
    }
   ],
   "source": [
    "#Histogram of frequency distribution of features\n",
    "white.hist(bins=24,figsize=(12,12)) "
   ]
  },
  {
   "cell_type": "markdown",
   "metadata": {
    "id": "iDz3UJppq4DK"
   },
   "source": [
    "These features values will be scaling later on the linear regression"
   ]
  },
  {
   "cell_type": "code",
   "execution_count": 21,
   "metadata": {
    "colab": {
     "base_uri": "https://localhost:8080/",
     "height": 446
    },
    "id": "NOMoVkmntbMv",
    "outputId": "7b31b96e-5579-460d-8404-ffcd37d44fa2"
   },
   "outputs": [
    {
     "data": {
      "text/html": [
       "<style type=\"text/css\">\n",
       "#T_98722_row0_col0, #T_98722_row1_col1, #T_98722_row2_col2, #T_98722_row3_col3, #T_98722_row4_col4, #T_98722_row5_col5, #T_98722_row6_col6, #T_98722_row7_col7, #T_98722_row8_col8, #T_98722_row9_col9, #T_98722_row10_col10, #T_98722_row11_col11 {\n",
       "  background-color: #08306b;\n",
       "  color: #f1f1f1;\n",
       "}\n",
       "#T_98722_row0_col1 {\n",
       "  background-color: #dbe9f6;\n",
       "  color: #000000;\n",
       "}\n",
       "#T_98722_row0_col2 {\n",
       "  background-color: #99c7e0;\n",
       "  color: #000000;\n",
       "}\n",
       "#T_98722_row0_col3, #T_98722_row0_col6, #T_98722_row1_col6, #T_98722_row4_col3 {\n",
       "  background-color: #9fcae1;\n",
       "  color: #000000;\n",
       "}\n",
       "#T_98722_row0_col4, #T_98722_row1_col0 {\n",
       "  background-color: #bcd7eb;\n",
       "  color: #000000;\n",
       "}\n",
       "#T_98722_row0_col5, #T_98722_row3_col8, #T_98722_row3_col11 {\n",
       "  background-color: #d7e6f5;\n",
       "  color: #000000;\n",
       "}\n",
       "#T_98722_row0_col7, #T_98722_row3_col6, #T_98722_row6_col3 {\n",
       "  background-color: #4e9acb;\n",
       "  color: #f1f1f1;\n",
       "}\n",
       "#T_98722_row0_col8, #T_98722_row1_col9, #T_98722_row7_col10, #T_98722_row7_col11, #T_98722_row8_col0, #T_98722_row8_col2, #T_98722_row10_col3, #T_98722_row10_col4, #T_98722_row10_col5, #T_98722_row10_col6, #T_98722_row10_col7, #T_98722_row11_col1 {\n",
       "  background-color: #f7fbff;\n",
       "  color: #000000;\n",
       "}\n",
       "#T_98722_row0_col9, #T_98722_row10_col9 {\n",
       "  background-color: #f4f9fe;\n",
       "  color: #000000;\n",
       "}\n",
       "#T_98722_row0_col10, #T_98722_row11_col8 {\n",
       "  background-color: #a0cbe2;\n",
       "  color: #000000;\n",
       "}\n",
       "#T_98722_row0_col11 {\n",
       "  background-color: #dae8f6;\n",
       "  color: #000000;\n",
       "}\n",
       "#T_98722_row1_col2 {\n",
       "  background-color: #f5f9fe;\n",
       "  color: #000000;\n",
       "}\n",
       "#T_98722_row1_col3 {\n",
       "  background-color: #a5cde3;\n",
       "  color: #000000;\n",
       "}\n",
       "#T_98722_row1_col4 {\n",
       "  background-color: #b0d2e7;\n",
       "  color: #000000;\n",
       "}\n",
       "#T_98722_row1_col5 {\n",
       "  background-color: #dfebf7;\n",
       "  color: #000000;\n",
       "}\n",
       "#T_98722_row1_col7, #T_98722_row7_col4 {\n",
       "  background-color: #7db8da;\n",
       "  color: #000000;\n",
       "}\n",
       "#T_98722_row1_col8, #T_98722_row2_col5, #T_98722_row9_col4, #T_98722_row9_col11 {\n",
       "  background-color: #bed8ec;\n",
       "  color: #000000;\n",
       "}\n",
       "#T_98722_row1_col10 {\n",
       "  background-color: #75b4d8;\n",
       "  color: #000000;\n",
       "}\n",
       "#T_98722_row1_col11, #T_98722_row11_col9 {\n",
       "  background-color: #e6f0f9;\n",
       "  color: #000000;\n",
       "}\n",
       "#T_98722_row2_col0 {\n",
       "  background-color: #6aaed6;\n",
       "  color: #f1f1f1;\n",
       "}\n",
       "#T_98722_row2_col1 {\n",
       "  background-color: #f0f6fd;\n",
       "  color: #000000;\n",
       "}\n",
       "#T_98722_row2_col3 {\n",
       "  background-color: #9dcae1;\n",
       "  color: #000000;\n",
       "}\n",
       "#T_98722_row2_col4 {\n",
       "  background-color: #a6cee4;\n",
       "  color: #000000;\n",
       "}\n",
       "#T_98722_row2_col6 {\n",
       "  background-color: #97c6df;\n",
       "  color: #000000;\n",
       "}\n",
       "#T_98722_row2_col7 {\n",
       "  background-color: #64a9d3;\n",
       "  color: #f1f1f1;\n",
       "}\n",
       "#T_98722_row2_col8, #T_98722_row3_col10, #T_98722_row6_col10, #T_98722_row7_col1, #T_98722_row8_col9 {\n",
       "  background-color: #d3e3f3;\n",
       "  color: #000000;\n",
       "}\n",
       "#T_98722_row2_col9 {\n",
       "  background-color: #e4eff9;\n",
       "  color: #000000;\n",
       "}\n",
       "#T_98722_row2_col10 {\n",
       "  background-color: #95c5df;\n",
       "  color: #000000;\n",
       "}\n",
       "#T_98722_row2_col11 {\n",
       "  background-color: #cadef0;\n",
       "  color: #000000;\n",
       "}\n",
       "#T_98722_row3_col0, #T_98722_row6_col0 {\n",
       "  background-color: #a3cce3;\n",
       "  color: #000000;\n",
       "}\n",
       "#T_98722_row3_col1 {\n",
       "  background-color: #cddff1;\n",
       "  color: #000000;\n",
       "}\n",
       "#T_98722_row3_col2, #T_98722_row4_col1, #T_98722_row5_col2, #T_98722_row10_col1, #T_98722_row11_col0 {\n",
       "  background-color: #ccdff1;\n",
       "  color: #000000;\n",
       "}\n",
       "#T_98722_row3_col4 {\n",
       "  background-color: #add0e6;\n",
       "  color: #000000;\n",
       "}\n",
       "#T_98722_row3_col5 {\n",
       "  background-color: #84bcdb;\n",
       "  color: #000000;\n",
       "}\n",
       "#T_98722_row3_col7 {\n",
       "  background-color: #08488e;\n",
       "  color: #f1f1f1;\n",
       "}\n",
       "#T_98722_row3_col9 {\n",
       "  background-color: #f5fafe;\n",
       "  color: #000000;\n",
       "}\n",
       "#T_98722_row4_col0 {\n",
       "  background-color: #b2d2e8;\n",
       "  color: #000000;\n",
       "}\n",
       "#T_98722_row4_col2, #T_98722_row5_col11 {\n",
       "  background-color: #c8dcf0;\n",
       "  color: #000000;\n",
       "}\n",
       "#T_98722_row4_col5 {\n",
       "  background-color: #bdd7ec;\n",
       "  color: #000000;\n",
       "}\n",
       "#T_98722_row4_col6 {\n",
       "  background-color: #81badb;\n",
       "  color: #000000;\n",
       "}\n",
       "#T_98722_row4_col7 {\n",
       "  background-color: #4f9bcb;\n",
       "  color: #f1f1f1;\n",
       "}\n",
       "#T_98722_row4_col8, #T_98722_row4_col10, #T_98722_row6_col1 {\n",
       "  background-color: #c9ddf0;\n",
       "  color: #000000;\n",
       "}\n",
       "#T_98722_row4_col9 {\n",
       "  background-color: #eef5fc;\n",
       "  color: #000000;\n",
       "}\n",
       "#T_98722_row4_col11, #T_98722_row10_col2 {\n",
       "  background-color: #e8f1fa;\n",
       "  color: #000000;\n",
       "}\n",
       "#T_98722_row5_col0 {\n",
       "  background-color: #c2d9ee;\n",
       "  color: #000000;\n",
       "}\n",
       "#T_98722_row5_col1 {\n",
       "  background-color: #e7f1fa;\n",
       "  color: #000000;\n",
       "}\n",
       "#T_98722_row5_col3 {\n",
       "  background-color: #65aad4;\n",
       "  color: #f1f1f1;\n",
       "}\n",
       "#T_98722_row5_col4 {\n",
       "  background-color: #aacfe5;\n",
       "  color: #000000;\n",
       "}\n",
       "#T_98722_row5_col6, #T_98722_row6_col7 {\n",
       "  background-color: #2474b7;\n",
       "  color: #f1f1f1;\n",
       "}\n",
       "#T_98722_row5_col7 {\n",
       "  background-color: #4997c9;\n",
       "  color: #f1f1f1;\n",
       "}\n",
       "#T_98722_row5_col8, #T_98722_row5_col10, #T_98722_row6_col8 {\n",
       "  background-color: #b7d4ea;\n",
       "  color: #000000;\n",
       "}\n",
       "#T_98722_row5_col9 {\n",
       "  background-color: #e5eff9;\n",
       "  color: #000000;\n",
       "}\n",
       "#T_98722_row6_col2, #T_98722_row11_col3 {\n",
       "  background-color: #c7dcef;\n",
       "  color: #000000;\n",
       "}\n",
       "#T_98722_row6_col4 {\n",
       "  background-color: #8fc2de;\n",
       "  color: #000000;\n",
       "}\n",
       "#T_98722_row6_col5 {\n",
       "  background-color: #3080bd;\n",
       "  color: #f1f1f1;\n",
       "}\n",
       "#T_98722_row6_col9 {\n",
       "  background-color: #d6e6f4;\n",
       "  color: #000000;\n",
       "}\n",
       "#T_98722_row6_col11 {\n",
       "  background-color: #e3eef9;\n",
       "  color: #000000;\n",
       "}\n",
       "#T_98722_row7_col0 {\n",
       "  background-color: #71b1d7;\n",
       "  color: #f1f1f1;\n",
       "}\n",
       "#T_98722_row7_col2, #T_98722_row11_col7 {\n",
       "  background-color: #c1d9ed;\n",
       "  color: #000000;\n",
       "}\n",
       "#T_98722_row7_col3 {\n",
       "  background-color: #084d96;\n",
       "  color: #f1f1f1;\n",
       "}\n",
       "#T_98722_row7_col5 {\n",
       "  background-color: #85bcdc;\n",
       "  color: #000000;\n",
       "}\n",
       "#T_98722_row7_col6 {\n",
       "  background-color: #3585bf;\n",
       "  color: #f1f1f1;\n",
       "}\n",
       "#T_98722_row7_col8 {\n",
       "  background-color: #caddf0;\n",
       "  color: #000000;\n",
       "}\n",
       "#T_98722_row7_col9 {\n",
       "  background-color: #e2edf8;\n",
       "  color: #000000;\n",
       "}\n",
       "#T_98722_row8_col1, #T_98722_row9_col1 {\n",
       "  background-color: #dceaf6;\n",
       "  color: #000000;\n",
       "}\n",
       "#T_98722_row8_col3 {\n",
       "  background-color: #d4e4f4;\n",
       "  color: #000000;\n",
       "}\n",
       "#T_98722_row8_col4 {\n",
       "  background-color: #d0e2f2;\n",
       "  color: #000000;\n",
       "}\n",
       "#T_98722_row8_col5 {\n",
       "  background-color: #d0e1f2;\n",
       "  color: #000000;\n",
       "}\n",
       "#T_98722_row8_col6, #T_98722_row8_col11 {\n",
       "  background-color: #b3d3e8;\n",
       "  color: #000000;\n",
       "}\n",
       "#T_98722_row8_col7, #T_98722_row10_col8 {\n",
       "  background-color: #9ac8e0;\n",
       "  color: #000000;\n",
       "}\n",
       "#T_98722_row8_col10 {\n",
       "  background-color: #69add5;\n",
       "  color: #f1f1f1;\n",
       "}\n",
       "#T_98722_row9_col0 {\n",
       "  background-color: #bad6eb;\n",
       "  color: #000000;\n",
       "}\n",
       "#T_98722_row9_col2 {\n",
       "  background-color: #d1e2f3;\n",
       "  color: #000000;\n",
       "}\n",
       "#T_98722_row9_col3 {\n",
       "  background-color: #b9d6ea;\n",
       "  color: #000000;\n",
       "}\n",
       "#T_98722_row9_col5 {\n",
       "  background-color: #c7dbef;\n",
       "  color: #000000;\n",
       "}\n",
       "#T_98722_row9_col6 {\n",
       "  background-color: #92c4de;\n",
       "  color: #000000;\n",
       "}\n",
       "#T_98722_row9_col7 {\n",
       "  background-color: #74b3d8;\n",
       "  color: #000000;\n",
       "}\n",
       "#T_98722_row9_col8 {\n",
       "  background-color: #91c3de;\n",
       "  color: #000000;\n",
       "}\n",
       "#T_98722_row9_col10 {\n",
       "  background-color: #89bedc;\n",
       "  color: #000000;\n",
       "}\n",
       "#T_98722_row10_col0 {\n",
       "  background-color: #cde0f1;\n",
       "  color: #000000;\n",
       "}\n",
       "#T_98722_row10_col11 {\n",
       "  background-color: #549fcd;\n",
       "  color: #f1f1f1;\n",
       "}\n",
       "#T_98722_row11_col2 {\n",
       "  background-color: #ddeaf7;\n",
       "  color: #000000;\n",
       "}\n",
       "#T_98722_row11_col4 {\n",
       "  background-color: #e1edf8;\n",
       "  color: #000000;\n",
       "}\n",
       "#T_98722_row11_col5 {\n",
       "  background-color: #cfe1f2;\n",
       "  color: #000000;\n",
       "}\n",
       "#T_98722_row11_col6 {\n",
       "  background-color: #d2e3f3;\n",
       "  color: #000000;\n",
       "}\n",
       "#T_98722_row11_col10 {\n",
       "  background-color: #3383be;\n",
       "  color: #f1f1f1;\n",
       "}\n",
       "</style>\n",
       "<table id=\"T_98722_\" class=\"dataframe\">\n",
       "  <thead>\n",
       "    <tr>\n",
       "      <th class=\"blank level0\" >&nbsp;</th>\n",
       "      <th class=\"col_heading level0 col0\" >fixed_acidity</th>\n",
       "      <th class=\"col_heading level0 col1\" >volatile_acidity</th>\n",
       "      <th class=\"col_heading level0 col2\" >citric_acid</th>\n",
       "      <th class=\"col_heading level0 col3\" >residual_sugar</th>\n",
       "      <th class=\"col_heading level0 col4\" >chlorides</th>\n",
       "      <th class=\"col_heading level0 col5\" >free_sulfur_dioxide</th>\n",
       "      <th class=\"col_heading level0 col6\" >total_sulfur_dioxide</th>\n",
       "      <th class=\"col_heading level0 col7\" >density</th>\n",
       "      <th class=\"col_heading level0 col8\" >pH</th>\n",
       "      <th class=\"col_heading level0 col9\" >sulphates</th>\n",
       "      <th class=\"col_heading level0 col10\" >alcohol</th>\n",
       "      <th class=\"col_heading level0 col11\" >quality</th>\n",
       "    </tr>\n",
       "  </thead>\n",
       "  <tbody>\n",
       "    <tr>\n",
       "      <th id=\"T_98722_level0_row0\" class=\"row_heading level0 row0\" >fixed_acidity</th>\n",
       "      <td id=\"T_98722_row0_col0\" class=\"data row0 col0\" >1.000000</td>\n",
       "      <td id=\"T_98722_row0_col1\" class=\"data row0 col1\" >-0.022697</td>\n",
       "      <td id=\"T_98722_row0_col2\" class=\"data row0 col2\" >0.289181</td>\n",
       "      <td id=\"T_98722_row0_col3\" class=\"data row0 col3\" >0.089021</td>\n",
       "      <td id=\"T_98722_row0_col4\" class=\"data row0 col4\" >0.023086</td>\n",
       "      <td id=\"T_98722_row0_col5\" class=\"data row0 col5\" >-0.049396</td>\n",
       "      <td id=\"T_98722_row0_col6\" class=\"data row0 col6\" >0.091070</td>\n",
       "      <td id=\"T_98722_row0_col7\" class=\"data row0 col7\" >0.265331</td>\n",
       "      <td id=\"T_98722_row0_col8\" class=\"data row0 col8\" >-0.425858</td>\n",
       "      <td id=\"T_98722_row0_col9\" class=\"data row0 col9\" >-0.017143</td>\n",
       "      <td id=\"T_98722_row0_col10\" class=\"data row0 col10\" >-0.120881</td>\n",
       "      <td id=\"T_98722_row0_col11\" class=\"data row0 col11\" >-0.113663</td>\n",
       "    </tr>\n",
       "    <tr>\n",
       "      <th id=\"T_98722_level0_row1\" class=\"row_heading level0 row1\" >volatile_acidity</th>\n",
       "      <td id=\"T_98722_row1_col0\" class=\"data row1 col0\" >-0.022697</td>\n",
       "      <td id=\"T_98722_row1_col1\" class=\"data row1 col1\" >1.000000</td>\n",
       "      <td id=\"T_98722_row1_col2\" class=\"data row1 col2\" >-0.149472</td>\n",
       "      <td id=\"T_98722_row1_col3\" class=\"data row1 col3\" >0.064286</td>\n",
       "      <td id=\"T_98722_row1_col4\" class=\"data row1 col4\" >0.070512</td>\n",
       "      <td id=\"T_98722_row1_col5\" class=\"data row1 col5\" >-0.097012</td>\n",
       "      <td id=\"T_98722_row1_col6\" class=\"data row1 col6\" >0.089261</td>\n",
       "      <td id=\"T_98722_row1_col7\" class=\"data row1 col7\" >0.027114</td>\n",
       "      <td id=\"T_98722_row1_col8\" class=\"data row1 col8\" >-0.031915</td>\n",
       "      <td id=\"T_98722_row1_col9\" class=\"data row1 col9\" >-0.035728</td>\n",
       "      <td id=\"T_98722_row1_col10\" class=\"data row1 col10\" >0.067718</td>\n",
       "      <td id=\"T_98722_row1_col11\" class=\"data row1 col11\" >-0.194723</td>\n",
       "    </tr>\n",
       "    <tr>\n",
       "      <th id=\"T_98722_level0_row2\" class=\"row_heading level0 row2\" >citric_acid</th>\n",
       "      <td id=\"T_98722_row2_col0\" class=\"data row2 col0\" >0.289181</td>\n",
       "      <td id=\"T_98722_row2_col1\" class=\"data row2 col1\" >-0.149472</td>\n",
       "      <td id=\"T_98722_row2_col2\" class=\"data row2 col2\" >1.000000</td>\n",
       "      <td id=\"T_98722_row2_col3\" class=\"data row2 col3\" >0.094212</td>\n",
       "      <td id=\"T_98722_row2_col4\" class=\"data row2 col4\" >0.114364</td>\n",
       "      <td id=\"T_98722_row2_col5\" class=\"data row2 col5\" >0.094077</td>\n",
       "      <td id=\"T_98722_row2_col6\" class=\"data row2 col6\" >0.121131</td>\n",
       "      <td id=\"T_98722_row2_col7\" class=\"data row2 col7\" >0.149503</td>\n",
       "      <td id=\"T_98722_row2_col8\" class=\"data row2 col8\" >-0.163748</td>\n",
       "      <td id=\"T_98722_row2_col9\" class=\"data row2 col9\" >0.062331</td>\n",
       "      <td id=\"T_98722_row2_col10\" class=\"data row2 col10\" >-0.075729</td>\n",
       "      <td id=\"T_98722_row2_col11\" class=\"data row2 col11\" >-0.009209</td>\n",
       "    </tr>\n",
       "    <tr>\n",
       "      <th id=\"T_98722_level0_row3\" class=\"row_heading level0 row3\" >residual_sugar</th>\n",
       "      <td id=\"T_98722_row3_col0\" class=\"data row3 col0\" >0.089021</td>\n",
       "      <td id=\"T_98722_row3_col1\" class=\"data row3 col1\" >0.064286</td>\n",
       "      <td id=\"T_98722_row3_col2\" class=\"data row3 col2\" >0.094212</td>\n",
       "      <td id=\"T_98722_row3_col3\" class=\"data row3 col3\" >1.000000</td>\n",
       "      <td id=\"T_98722_row3_col4\" class=\"data row3 col4\" >0.088685</td>\n",
       "      <td id=\"T_98722_row3_col5\" class=\"data row3 col5\" >0.299098</td>\n",
       "      <td id=\"T_98722_row3_col6\" class=\"data row3 col6\" >0.401439</td>\n",
       "      <td id=\"T_98722_row3_col7\" class=\"data row3 col7\" >0.838966</td>\n",
       "      <td id=\"T_98722_row3_col8\" class=\"data row3 col8\" >-0.194133</td>\n",
       "      <td id=\"T_98722_row3_col9\" class=\"data row3 col9\" >-0.026664</td>\n",
       "      <td id=\"T_98722_row3_col10\" class=\"data row3 col10\" >-0.450631</td>\n",
       "      <td id=\"T_98722_row3_col11\" class=\"data row3 col11\" >-0.097577</td>\n",
       "    </tr>\n",
       "    <tr>\n",
       "      <th id=\"T_98722_level0_row4\" class=\"row_heading level0 row4\" >chlorides</th>\n",
       "      <td id=\"T_98722_row4_col0\" class=\"data row4 col0\" >0.023086</td>\n",
       "      <td id=\"T_98722_row4_col1\" class=\"data row4 col1\" >0.070512</td>\n",
       "      <td id=\"T_98722_row4_col2\" class=\"data row4 col2\" >0.114364</td>\n",
       "      <td id=\"T_98722_row4_col3\" class=\"data row4 col3\" >0.088685</td>\n",
       "      <td id=\"T_98722_row4_col4\" class=\"data row4 col4\" >1.000000</td>\n",
       "      <td id=\"T_98722_row4_col5\" class=\"data row4 col5\" >0.101392</td>\n",
       "      <td id=\"T_98722_row4_col6\" class=\"data row4 col6\" >0.198910</td>\n",
       "      <td id=\"T_98722_row4_col7\" class=\"data row4 col7\" >0.257211</td>\n",
       "      <td id=\"T_98722_row4_col8\" class=\"data row4 col8\" >-0.090439</td>\n",
       "      <td id=\"T_98722_row4_col9\" class=\"data row4 col9\" >0.016763</td>\n",
       "      <td id=\"T_98722_row4_col10\" class=\"data row4 col10\" >-0.360189</td>\n",
       "      <td id=\"T_98722_row4_col11\" class=\"data row4 col11\" >-0.209934</td>\n",
       "    </tr>\n",
       "    <tr>\n",
       "      <th id=\"T_98722_level0_row5\" class=\"row_heading level0 row5\" >free_sulfur_dioxide</th>\n",
       "      <td id=\"T_98722_row5_col0\" class=\"data row5 col0\" >-0.049396</td>\n",
       "      <td id=\"T_98722_row5_col1\" class=\"data row5 col1\" >-0.097012</td>\n",
       "      <td id=\"T_98722_row5_col2\" class=\"data row5 col2\" >0.094077</td>\n",
       "      <td id=\"T_98722_row5_col3\" class=\"data row5 col3\" >0.299098</td>\n",
       "      <td id=\"T_98722_row5_col4\" class=\"data row5 col4\" >0.101392</td>\n",
       "      <td id=\"T_98722_row5_col5\" class=\"data row5 col5\" >1.000000</td>\n",
       "      <td id=\"T_98722_row5_col6\" class=\"data row5 col6\" >0.615501</td>\n",
       "      <td id=\"T_98722_row5_col7\" class=\"data row5 col7\" >0.294210</td>\n",
       "      <td id=\"T_98722_row5_col8\" class=\"data row5 col8\" >-0.000618</td>\n",
       "      <td id=\"T_98722_row5_col9\" class=\"data row5 col9\" >0.059217</td>\n",
       "      <td id=\"T_98722_row5_col10\" class=\"data row5 col10\" >-0.250104</td>\n",
       "      <td id=\"T_98722_row5_col11\" class=\"data row5 col11\" >0.008158</td>\n",
       "    </tr>\n",
       "    <tr>\n",
       "      <th id=\"T_98722_level0_row6\" class=\"row_heading level0 row6\" >total_sulfur_dioxide</th>\n",
       "      <td id=\"T_98722_row6_col0\" class=\"data row6 col0\" >0.091070</td>\n",
       "      <td id=\"T_98722_row6_col1\" class=\"data row6 col1\" >0.089261</td>\n",
       "      <td id=\"T_98722_row6_col2\" class=\"data row6 col2\" >0.121131</td>\n",
       "      <td id=\"T_98722_row6_col3\" class=\"data row6 col3\" >0.401439</td>\n",
       "      <td id=\"T_98722_row6_col4\" class=\"data row6 col4\" >0.198910</td>\n",
       "      <td id=\"T_98722_row6_col5\" class=\"data row6 col5\" >0.615501</td>\n",
       "      <td id=\"T_98722_row6_col6\" class=\"data row6 col6\" >1.000000</td>\n",
       "      <td id=\"T_98722_row6_col7\" class=\"data row6 col7\" >0.529881</td>\n",
       "      <td id=\"T_98722_row6_col8\" class=\"data row6 col8\" >0.002321</td>\n",
       "      <td id=\"T_98722_row6_col9\" class=\"data row6 col9\" >0.134562</td>\n",
       "      <td id=\"T_98722_row6_col10\" class=\"data row6 col10\" >-0.448892</td>\n",
       "      <td id=\"T_98722_row6_col11\" class=\"data row6 col11\" >-0.174737</td>\n",
       "    </tr>\n",
       "    <tr>\n",
       "      <th id=\"T_98722_level0_row7\" class=\"row_heading level0 row7\" >density</th>\n",
       "      <td id=\"T_98722_row7_col0\" class=\"data row7 col0\" >0.265331</td>\n",
       "      <td id=\"T_98722_row7_col1\" class=\"data row7 col1\" >0.027114</td>\n",
       "      <td id=\"T_98722_row7_col2\" class=\"data row7 col2\" >0.149503</td>\n",
       "      <td id=\"T_98722_row7_col3\" class=\"data row7 col3\" >0.838966</td>\n",
       "      <td id=\"T_98722_row7_col4\" class=\"data row7 col4\" >0.257211</td>\n",
       "      <td id=\"T_98722_row7_col5\" class=\"data row7 col5\" >0.294210</td>\n",
       "      <td id=\"T_98722_row7_col6\" class=\"data row7 col6\" >0.529881</td>\n",
       "      <td id=\"T_98722_row7_col7\" class=\"data row7 col7\" >1.000000</td>\n",
       "      <td id=\"T_98722_row7_col8\" class=\"data row7 col8\" >-0.093591</td>\n",
       "      <td id=\"T_98722_row7_col9\" class=\"data row7 col9\" >0.074493</td>\n",
       "      <td id=\"T_98722_row7_col10\" class=\"data row7 col10\" >-0.780138</td>\n",
       "      <td id=\"T_98722_row7_col11\" class=\"data row7 col11\" >-0.307123</td>\n",
       "    </tr>\n",
       "    <tr>\n",
       "      <th id=\"T_98722_level0_row8\" class=\"row_heading level0 row8\" >pH</th>\n",
       "      <td id=\"T_98722_row8_col0\" class=\"data row8 col0\" >-0.425858</td>\n",
       "      <td id=\"T_98722_row8_col1\" class=\"data row8 col1\" >-0.031915</td>\n",
       "      <td id=\"T_98722_row8_col2\" class=\"data row8 col2\" >-0.163748</td>\n",
       "      <td id=\"T_98722_row8_col3\" class=\"data row8 col3\" >-0.194133</td>\n",
       "      <td id=\"T_98722_row8_col4\" class=\"data row8 col4\" >-0.090439</td>\n",
       "      <td id=\"T_98722_row8_col5\" class=\"data row8 col5\" >-0.000618</td>\n",
       "      <td id=\"T_98722_row8_col6\" class=\"data row8 col6\" >0.002321</td>\n",
       "      <td id=\"T_98722_row8_col7\" class=\"data row8 col7\" >-0.093591</td>\n",
       "      <td id=\"T_98722_row8_col8\" class=\"data row8 col8\" >1.000000</td>\n",
       "      <td id=\"T_98722_row8_col9\" class=\"data row8 col9\" >0.155951</td>\n",
       "      <td id=\"T_98722_row8_col10\" class=\"data row8 col10\" >0.121432</td>\n",
       "      <td id=\"T_98722_row8_col11\" class=\"data row8 col11\" >0.099427</td>\n",
       "    </tr>\n",
       "    <tr>\n",
       "      <th id=\"T_98722_level0_row9\" class=\"row_heading level0 row9\" >sulphates</th>\n",
       "      <td id=\"T_98722_row9_col0\" class=\"data row9 col0\" >-0.017143</td>\n",
       "      <td id=\"T_98722_row9_col1\" class=\"data row9 col1\" >-0.035728</td>\n",
       "      <td id=\"T_98722_row9_col2\" class=\"data row9 col2\" >0.062331</td>\n",
       "      <td id=\"T_98722_row9_col3\" class=\"data row9 col3\" >-0.026664</td>\n",
       "      <td id=\"T_98722_row9_col4\" class=\"data row9 col4\" >0.016763</td>\n",
       "      <td id=\"T_98722_row9_col5\" class=\"data row9 col5\" >0.059217</td>\n",
       "      <td id=\"T_98722_row9_col6\" class=\"data row9 col6\" >0.134562</td>\n",
       "      <td id=\"T_98722_row9_col7\" class=\"data row9 col7\" >0.074493</td>\n",
       "      <td id=\"T_98722_row9_col8\" class=\"data row9 col8\" >0.155951</td>\n",
       "      <td id=\"T_98722_row9_col9\" class=\"data row9 col9\" >1.000000</td>\n",
       "      <td id=\"T_98722_row9_col10\" class=\"data row9 col10\" >-0.017433</td>\n",
       "      <td id=\"T_98722_row9_col11\" class=\"data row9 col11\" >0.053678</td>\n",
       "    </tr>\n",
       "    <tr>\n",
       "      <th id=\"T_98722_level0_row10\" class=\"row_heading level0 row10\" >alcohol</th>\n",
       "      <td id=\"T_98722_row10_col0\" class=\"data row10 col0\" >-0.120881</td>\n",
       "      <td id=\"T_98722_row10_col1\" class=\"data row10 col1\" >0.067718</td>\n",
       "      <td id=\"T_98722_row10_col2\" class=\"data row10 col2\" >-0.075729</td>\n",
       "      <td id=\"T_98722_row10_col3\" class=\"data row10 col3\" >-0.450631</td>\n",
       "      <td id=\"T_98722_row10_col4\" class=\"data row10 col4\" >-0.360189</td>\n",
       "      <td id=\"T_98722_row10_col5\" class=\"data row10 col5\" >-0.250104</td>\n",
       "      <td id=\"T_98722_row10_col6\" class=\"data row10 col6\" >-0.448892</td>\n",
       "      <td id=\"T_98722_row10_col7\" class=\"data row10 col7\" >-0.780138</td>\n",
       "      <td id=\"T_98722_row10_col8\" class=\"data row10 col8\" >0.121432</td>\n",
       "      <td id=\"T_98722_row10_col9\" class=\"data row10 col9\" >-0.017433</td>\n",
       "      <td id=\"T_98722_row10_col10\" class=\"data row10 col10\" >1.000000</td>\n",
       "      <td id=\"T_98722_row10_col11\" class=\"data row10 col11\" >0.435575</td>\n",
       "    </tr>\n",
       "    <tr>\n",
       "      <th id=\"T_98722_level0_row11\" class=\"row_heading level0 row11\" >quality</th>\n",
       "      <td id=\"T_98722_row11_col0\" class=\"data row11 col0\" >-0.113663</td>\n",
       "      <td id=\"T_98722_row11_col1\" class=\"data row11 col1\" >-0.194723</td>\n",
       "      <td id=\"T_98722_row11_col2\" class=\"data row11 col2\" >-0.009209</td>\n",
       "      <td id=\"T_98722_row11_col3\" class=\"data row11 col3\" >-0.097577</td>\n",
       "      <td id=\"T_98722_row11_col4\" class=\"data row11 col4\" >-0.209934</td>\n",
       "      <td id=\"T_98722_row11_col5\" class=\"data row11 col5\" >0.008158</td>\n",
       "      <td id=\"T_98722_row11_col6\" class=\"data row11 col6\" >-0.174737</td>\n",
       "      <td id=\"T_98722_row11_col7\" class=\"data row11 col7\" >-0.307123</td>\n",
       "      <td id=\"T_98722_row11_col8\" class=\"data row11 col8\" >0.099427</td>\n",
       "      <td id=\"T_98722_row11_col9\" class=\"data row11 col9\" >0.053678</td>\n",
       "      <td id=\"T_98722_row11_col10\" class=\"data row11 col10\" >0.435575</td>\n",
       "      <td id=\"T_98722_row11_col11\" class=\"data row11 col11\" >1.000000</td>\n",
       "    </tr>\n",
       "  </tbody>\n",
       "</table>\n"
      ],
      "text/plain": [
       "<pandas.io.formats.style.Styler at 0x7f93978cd810>"
      ]
     },
     "execution_count": 21,
     "metadata": {},
     "output_type": "execute_result"
    }
   ],
   "source": [
    "# The correlation coefficient matrix\n",
    "white.corr().style.background_gradient(cmap='Blues')"
   ]
  },
  {
   "cell_type": "markdown",
   "metadata": {
    "id": "VS8jY9fVrA_e"
   },
   "source": [
    "There is a greatest influence on alcohol and density, which has a correlation coefficient of approximately -0.78.\n",
    "The following figure shows the relationship between them."
   ]
  },
  {
   "cell_type": "code",
   "execution_count": 48,
   "metadata": {
    "colab": {
     "base_uri": "https://localhost:8080/",
     "height": 313
    },
    "id": "ZzbRqmpLqk3w",
    "outputId": "3ec0b84c-5c60-43b8-c9c8-f21b894a1606"
   },
   "outputs": [
    {
     "data": {
      "text/plain": [
       "Text(0.5, 1.0, 'Relationship between alcohol and density of white wine')"
      ]
     },
     "execution_count": 48,
     "metadata": {},
     "output_type": "execute_result"
    },
    {
     "data": {
      "image/png": "[encoded data removed]",
      "text/plain": [
       "<Figure size 432x288 with 1 Axes>"
      ]
     },
     "metadata": {
      "needs_background": "light"
     },
     "output_type": "display_data"
    }
   ],
   "source": [
    "# The plot of relationship between alcohol and density\n",
    "plt.figure()\n",
    "sns.regplot(x = 'alcohol',y = 'density',data = white)\n",
    "plt.title('Relationship between alcohol and density of white wine')"
   ]
  },
  {
   "cell_type": "code",
   "execution_count": 49,
   "metadata": {
    "colab": {
     "base_uri": "https://localhost:8080/",
     "height": 314
    },
    "id": "cr7lfruiADB7",
    "outputId": "7dbfdfe0-55e8-4eab-9dba-c47f3a27550f"
   },
   "outputs": [
    {
     "data": {
      "text/plain": [
       "Text(0.5, 1.0, 'The relationship between free sulfur dioxide and total sulfur dioxide')"
      ]
     },
     "execution_count": 49,
     "metadata": {},
     "output_type": "execute_result"
    },
    {
     "data": {
      "image/png": "[encoded data removed]",
      "text/plain": [
       "<Figure size 432x288 with 1 Axes>"
      ]
     },
     "metadata": {
      "needs_background": "light"
     },
     "output_type": "display_data"
    }
   ],
   "source": [
    "# The plot of relationship between free sulfur dioxide and total sulfur dioxide\n",
    "plt.figure()\n",
    "sns.regplot(x = 'free_sulfur_dioxide',y = 'total_sulfur_dioxide',data = white)\n",
    "plt.title('The relationship between free sulfur dioxide and total sulfur dioxide')"
   ]
  },
  {
   "cell_type": "markdown",
   "metadata": {
    "id": "Jx1THXLjrWXT"
   },
   "source": [
    "The correlation coefficient matrix shows that density and alcohol have a strong influence on the quality of white wine. \n",
    "The following figure shows the relationship between them."
   ]
  },
  {
   "cell_type": "code",
   "execution_count": 23,
   "metadata": {
    "colab": {
     "base_uri": "https://localhost:8080/",
     "height": 403
    },
    "id": "eRMd4479qCC6",
    "outputId": "f298810a-fbc7-45b6-fc82-3f908d48ef1f"
   },
   "outputs": [
    {
     "data": {
      "text/plain": [
       "Text(0.5, 1.0, 'Scatter plots of quality, alcohol, and density of white wine')"
      ]
     },
     "execution_count": 23,
     "metadata": {},
     "output_type": "execute_result"
    },
    {
     "data": {
      "image/png": "[encoded data removed]",
      "text/plain": [
       "<Figure size 402.375x360 with 1 Axes>"
      ]
     },
     "metadata": {
      "needs_background": "light"
     },
     "output_type": "display_data"
    }
   ],
   "source": [
    "# Scatter plots of quality, alcohol, and density of white wine\n",
    "sns.lmplot (x = 'alcohol',y = 'volatile_acidity',hue = 'quality',\n",
    "            data = white,fit_reg = False)\n",
    "plt.title('Scatter plots of quality, alcohol, and density of white wine')"
   ]
  },
  {
   "cell_type": "markdown",
   "metadata": {
    "id": "VlK97BTTtbMv"
   },
   "source": [
    "White wine:\n",
    "\n",
    "The correlation coefficient matrix shows that density and alcohol have a strong influence on the quality of white wine. The greatest influence on wine quality is the wine is alcohol, which has a correlation coefficient of approximately 0.44.\n",
    "\n",
    "* Most of the white wines its quality in the middle\n",
    "\n",
    "* Alcohol is positively correlated with quality, with the higher the degree the higher the quality tends to increase\n",
    "\n",
    "* Density is negatively correlated with quality, the higher the acidity the lower the quality tends to be\n",
    "\n",
    "* The higher the alcohol, the lower the density\n",
    "\n",
    "* The higher the free sulphur dioxide, the higher the total sulphur dioxide\n",
    "\n",
    "\n"
   ]
  },
  {
   "cell_type": "markdown",
   "metadata": {
    "id": "HjFSBkZDIb1Q"
   },
   "source": [
    "# 2 Closed-form OLS Solution"
   ]
  },
  {
   "cell_type": "code",
   "execution_count": 24,
   "metadata": {
    "colab": {
     "base_uri": "https://localhost:8080/"
    },
    "id": "Psje_YyJcf1W",
    "outputId": "e4d808a2-6bf3-4d14-e72a-8eaf78816dbf"
   },
   "outputs": [
    {
     "name": "stdout",
     "output_type": "stream",
     "text": [
      "[27.17057051 99.92909991 95.39376539  6.48698991 97.6467664  57.25326303\n",
      "  0.         38.27834689 70.75290418 58.0867347  69.11587287]\n"
     ]
    }
   ],
   "source": [
    "# Generate a dataset for the regression problem\n",
    "X,y,coeffs = make_regression(n_samples=1000, n_features=11, coef=True)\n",
    "print(coeffs)"
   ]
  },
  {
   "cell_type": "code",
   "execution_count": 25,
   "metadata": {
    "colab": {
     "base_uri": "https://localhost:8080/"
    },
    "id": "ej7Z00xikJ0Y",
    "outputId": "d02824dd-4f5c-4d22-9c6a-d26f9ef7433b"
   },
   "outputs": [
    {
     "name": "stdout",
     "output_type": "stream",
     "text": [
      "[ 2.71705705e+01  9.99290999e+01  9.53937654e+01  6.48698991e+00\n",
      "  9.76467664e+01  5.72532630e+01 -5.32907052e-15  3.82783469e+01\n",
      "  7.07529042e+01  5.80867347e+01  6.91158729e+01]\n"
     ]
    }
   ],
   "source": [
    "# The optimal parameters obtained via the closed-form solution\n",
    "beta = np.dot(np.linalg.inv(np.dot(X.T, X)), np.dot(X.T, y))\n",
    "print(beta)"
   ]
  },
  {
   "cell_type": "code",
   "execution_count": 26,
   "metadata": {
    "colab": {
     "base_uri": "https://localhost:8080/"
    },
    "id": "kwFt0r4GOVyP",
    "outputId": "f41fa56d-1895-4387-8c2c-37ee84e812bd"
   },
   "outputs": [
    {
     "data": {
      "text/plain": [
       "True"
      ]
     },
     "execution_count": 26,
     "metadata": {},
     "output_type": "execute_result"
    }
   ],
   "source": [
    "np.allclose(beta, coeffs) # Check two arrays are element-wise equal"
   ]
  },
  {
   "cell_type": "code",
   "execution_count": 27,
   "metadata": {
    "colab": {
     "base_uri": "https://localhost:8080/"
    },
    "id": "SoFH8ZnQNsGg",
    "outputId": "6a93e49d-4210-47e9-f282-86fdf2fde7aa"
   },
   "outputs": [
    {
     "data": {
      "text/plain": [
       "True"
      ]
     },
     "execution_count": 27,
     "metadata": {},
     "output_type": "execute_result"
    }
   ],
   "source": [
    "(np.round(coeffs, 8) == np.round(beta, 8)).all() # Check that the first eight digits are the same"
   ]
  },
  {
   "cell_type": "markdown",
   "metadata": {
    "id": "Sdn3uxkk6DPj"
   },
   "source": [
    "Potential shortcomings of the closed-form approach:\n",
    "\n",
    "1. the complexity of the matrix inversion process is large (O(n^3));\n",
    "2. there are objective functions that are difficult to derive or even have no derivatives;\n",
    "3. it is possible that given equation has no closed-form solution;\n",
    "4. we assume that the closed-form objective function is convex. Therefore, it is difficult to cope with the case of non-convex functions.\n",
    "5. As the noise of the dataset increases, the similarity of coefficient and beta decreases"
   ]
  },
  {
   "cell_type": "markdown",
   "metadata": {
    "id": "5sQvhkL9In65"
   },
   "source": [
    "# 3 Wine Quality Regression"
   ]
  },
  {
   "cell_type": "markdown",
   "metadata": {
    "id": "EFs9aTPE0Kyp"
   },
   "source": [
    "##Ordinary Least-Squares linear regression model"
   ]
  },
  {
   "cell_type": "code",
   "execution_count": 50,
   "metadata": {
    "id": "SEkEQtlEwxvS"
   },
   "outputs": [],
   "source": [
    "# The Ordinary Least-Squares model to the data\n",
    "\n",
    "def Wine_Linear_Regression(df):\n",
    "  # Feature variables\n",
    "  X = df.drop('quality',axis = 1)\n",
    "  y = df['quality']\n",
    "  \n",
    "  # Splitting data in train and test sets\n",
    "  X_train, X_test, y_train, y_test = train_test_split(X,y,test_size=0.2)\n",
    "  \n",
    "  # Creating a pipeline\n",
    "  pipe = make_pipeline(StandardScaler(),LinearRegression())\n",
    "  \n",
    "  # Fitting data into the model\n",
    "  pipe.fit(X_train, y_train)\n",
    "  \n",
    "  # The Mean Squared Error, Mean Absolute Error and the R2 coefficient of determination and report them\n",
    "  mse = mean_squared_error(y_test, pipe.predict(X_test))\n",
    "  mae = mean_absolute_error(y_test, pipe.predict(X_test))\n",
    "  r2 = r2_score(y_test, pipe.predict(X_test)) \n",
    "  print(\"The mean squared error (MSE) on test set: {:.4f}\".format(mse))\n",
    "  print(\"The mean absolute error (MAE) on test set: {:.4f}\".format(mae))\n",
    "  print(\"The coefficient of determination R^2 on test set: {:.4f}\".format(r2))\n",
    "  \n",
    "  # Evaluate a score by cross-validation and report it\n",
    "  cv_score = np.mean(cross_val_score(pipe,X_train,y_train, cv=5))\n",
    "  print(\"The training score by cross-validation.: {:.4f}\".format(cv_score))\n",
    "\n",
    "  # Report the training set and test set scores\n",
    "  print('Training set score: {:.4f}'.format(pipe.score(X_train,y_train)))\n",
    "  print('Test set score: {:.4f}'.format(pipe.score(X_test, y_test)))"
   ]
  },
  {
   "cell_type": "code",
   "execution_count": 71,
   "metadata": {
    "colab": {
     "base_uri": "https://localhost:8080/"
    },
    "id": "qlIr2iCGyF_G",
    "outputId": "091eb69c-de80-4f48-f0b5-a8bdf3b191d2"
   },
   "outputs": [
    {
     "name": "stdout",
     "output_type": "stream",
     "text": [
      "The mean squared error (MSE) on test set: 0.4874\n",
      "The mean absolute error (MAE) on test set: 0.5346\n",
      "The coefficient of determination R^2 on test set: 0.3852\n",
      "The training score by cross-validation.: 0.3329\n",
      "Training set score: 0.3504\n",
      "Test set score: 0.3852\n"
     ]
    }
   ],
   "source": [
    "Wine_Linear_Regression(df = red) # The Ordinary Least-Squares model to the red wine"
   ]
  },
  {
   "cell_type": "code",
   "execution_count": 72,
   "metadata": {
    "colab": {
     "base_uri": "https://localhost:8080/"
    },
    "id": "W60RZnxfz8Bm",
    "outputId": "bd71fc71-371c-4591-fdd2-11e0c77f4f18"
   },
   "outputs": [
    {
     "name": "stdout",
     "output_type": "stream",
     "text": [
      "The mean squared error (MSE) on test set: 0.5311\n",
      "The mean absolute error (MAE) on test set: 0.5675\n",
      "The coefficient of determination R^2 on test set: 0.2929\n",
      "The training score by cross-validation.: 0.2689\n",
      "Training set score: 0.2788\n",
      "Test set score: 0.2929\n"
     ]
    }
   ],
   "source": [
    "Wine_Linear_Regression(df = white) # The Ordinary Least-Squares model to the white wine"
   ]
  },
  {
   "cell_type": "code",
   "execution_count": 73,
   "metadata": {
    "colab": {
     "base_uri": "https://localhost:8080/"
    },
    "id": "by2O3KIQtVOh",
    "outputId": "02e0b478-6b29-4d71-abc6-00f8d18fb508"
   },
   "outputs": [
    {
     "name": "stdout",
     "output_type": "stream",
     "text": [
      "The mean squared error (MSE) on test set: 0.5667\n",
      "The mean absolute error (MAE) on test set: 0.5791\n",
      "The coefficient of determination R^2 on test set: 0.2404\n",
      "The training score by cross-validation.: 0.2996\n",
      "Training set score: 0.3041\n",
      "Test set score: 0.2404\n"
     ]
    }
   ],
   "source": [
    "red_and_white_wine = pd.concat([red,white])\n",
    "Wine_Linear_Regression(df = red_and_white_wine) # The Ordinary Least-Squares model to the red and white wine"
   ]
  },
  {
   "cell_type": "markdown",
   "metadata": {
    "id": "HcvbKep-1cT8"
   },
   "source": [
    "## Ridge regression"
   ]
  },
  {
   "cell_type": "code",
   "execution_count": 82,
   "metadata": {
    "id": "3KMlI_T15eE2"
   },
   "outputs": [],
   "source": [
    "# Create a function for learning curve\n",
    "def learning_curve(grid):\n",
    "\n",
    "  results = pd.DataFrame(grid.cv_results_)\n",
    "  results.plot('param_alpha', 'mean_train_score')\n",
    "  results.plot('param_alpha', 'mean_test_score', ax=plt.gca())\n",
    "\n",
    "  plt.fill_between(results.param_alpha.astype(float),\n",
    "                 results['mean_train_score'] + results['std_train_score'],\n",
    "                 results['mean_train_score'] - results['std_train_score'], alpha=0.2)\n",
    "  plt.fill_between(results.param_alpha.astype(float),\n",
    "                 results['mean_test_score'] + results['std_test_score'],\n",
    "                 results['mean_test_score'] - results['std_test_score'], alpha=0.2)\n",
    "  plt.legend()\n",
    "  plt.xscale(\"log\")\n",
    "  plt.title('The learning curves of the alpha on model performance')\n"
   ]
  },
  {
   "cell_type": "code",
   "execution_count": 83,
   "metadata": {
    "id": "XjRduuQN2lY4"
   },
   "outputs": [],
   "source": [
    "# The Ridge Regression model\n",
    "\n",
    "def Wine_Ridge_Regression(df):\n",
    "  # Feature variables\n",
    "  X = df.drop('quality',axis = 1)\n",
    "  y = df['quality']\n",
    "  \n",
    "  # Splitting data in train and test sets\n",
    "  X_train, X_test, y_train, y_test = train_test_split(X,y,test_size=0.2)\n",
    "  \n",
    "  # Scaling the X train\n",
    "  scaler = StandardScaler()\n",
    "  scaler.fit(X_train)\n",
    "  X_train_scaled = scaler.transform(X_train)\n",
    "\n",
    "  # Find an optimal value for the hyperparameter alpha using grid search.\n",
    "  param_grid = {'alpha': np.logspace(-3, 3, 7)}\n",
    "  grid = GridSearchCV(Ridge(max_iter=1000000), param_grid, return_train_score=True, cv=5)\n",
    "  grid.fit(X_train, y_train)\n",
    "  alpha = grid.best_params_['alpha']\n",
    "  print('The best alpha is : {}'.format(alpha))\n",
    "\n",
    "  # Fit the Ridge regression (l2 regularization)\n",
    "  ridge = Ridge(alpha= alpha).fit(X_train_scaled, y_train)\n",
    "  \n",
    "  # Scaling the X test\n",
    "  X_test_scaled = scaler.transform(X_test)\n",
    "  \n",
    "  # Evaluate a score by cross-validation and report it\n",
    "  cv_score = np.mean(cross_val_score(ridge,X_train,y_train, cv=5))\n",
    "  print(\"The training score by cross-validation.: {:.4f}\".format(cv_score))\n",
    "  \n",
    "  # Report the training set and test set scores \n",
    "  print('Training set score: {:.4f}'.format(ridge.score(X_train_scaled,y_train)))\n",
    "  print('Test set score: {:.4f}'.format(ridge.score(X_test_scaled, y_test)))\n",
    "  \n",
    "  # The learning curves and plots of the choice of alpha on model performance\n",
    "  learning_curve(grid)\n"
   ]
  },
  {
   "cell_type": "code",
   "execution_count": 84,
   "metadata": {
    "colab": {
     "base_uri": "https://localhost:8080/",
     "height": 371
    },
    "id": "tKglBgU84wp1",
    "outputId": "cfadbd07-e138-498c-d053-ef26567ca498"
   },
   "outputs": [
    {
     "name": "stdout",
     "output_type": "stream",
     "text": [
      "The best alpha is : 0.1\n",
      "The training score by cross-validation.: 0.3495\n",
      "Training set score: 0.3649\n",
      "Test set score: 0.3251\n"
     ]
    },
    {
     "data": {
      "image/png": "[encoded data removed]",
      "text/plain": [
       "<Figure size 432x288 with 1 Axes>"
      ]
     },
     "metadata": {
      "needs_background": "light"
     },
     "output_type": "display_data"
    }
   ],
   "source": [
    "Wine_Ridge_Regression(red) # The Ridge Regression model to the red wine"
   ]
  },
  {
   "cell_type": "code",
   "execution_count": 85,
   "metadata": {
    "colab": {
     "base_uri": "https://localhost:8080/",
     "height": 371
    },
    "id": "lnn27ME55Wyu",
    "outputId": "f655794d-5f63-45cf-acbd-780a632542c4"
   },
   "outputs": [
    {
     "name": "stdout",
     "output_type": "stream",
     "text": [
      "The best alpha is : 0.001\n",
      "The training score by cross-validation.: 0.2791\n",
      "Training set score: 0.2859\n",
      "Test set score: 0.2625\n"
     ]
    },
    {
     "data": {
      "image/png": "[encoded data removed]",
      "text/plain": [
       "<Figure size 432x288 with 1 Axes>"
      ]
     },
     "metadata": {
      "needs_background": "light"
     },
     "output_type": "display_data"
    }
   ],
   "source": [
    "Wine_Ridge_Regression(white) # The Ridge Regression model to the white wine"
   ]
  },
  {
   "cell_type": "code",
   "execution_count": 86,
   "metadata": {
    "colab": {
     "base_uri": "https://localhost:8080/",
     "height": 371
    },
    "id": "MdJrPhT0t2W4",
    "outputId": "cc01a11b-33e8-4147-9ee4-4b0df6f7cd1d"
   },
   "outputs": [
    {
     "name": "stdout",
     "output_type": "stream",
     "text": [
      "The best alpha is : 0.001\n",
      "The training score by cross-validation.: 0.2874\n",
      "Training set score: 0.2912\n",
      "Test set score: 0.2936\n"
     ]
    },
    {
     "data": {
      "image/png": "[encoded data removed]",
      "text/plain": [
       "<Figure size 432x288 with 1 Axes>"
      ]
     },
     "metadata": {
      "needs_background": "light"
     },
     "output_type": "display_data"
    }
   ],
   "source": [
    "Wine_Ridge_Regression(red_and_white_wine) # The Ridge Regression model to the red and white wine"
   ]
  },
  {
   "cell_type": "markdown",
   "metadata": {
    "id": "USVAXCw75_2o"
   },
   "source": [
    "## Lasso regression"
   ]
  },
  {
   "cell_type": "code",
   "execution_count": 59,
   "metadata": {
    "id": "itIGiFPE6Fpt"
   },
   "outputs": [],
   "source": [
    "# The Lasso Regression model\n",
    "def Wine_Lasso_Regression(df):\n",
    "  # Feature variables\n",
    "  X = df.drop('quality',axis = 1)\n",
    "  y = df['quality']\n",
    "  \n",
    "  # Splitting data in train and test sets\n",
    "  X_train, X_test, y_train, y_test = train_test_split(X,y,test_size=0.2)\n",
    "  \n",
    "  # Scaling the X train  \n",
    "  scaler = StandardScaler()\n",
    "  scaler.fit(X_train)\n",
    "  X_train_scaled = scaler.transform(X_train)\n",
    "  \n",
    "  # Find an optimal value for the hyperparameter alpha using grid search.\n",
    "  param_grid = {'alpha': np.logspace(-3, 0, 7)}\n",
    "  grid = GridSearchCV(Lasso(max_iter=1000000), param_grid, return_train_score=True, cv=5)\n",
    "  grid.fit(X_train, y_train)\n",
    "  alpha = grid.best_params_['alpha']\n",
    "  print('The best alpha is : {}'.format(alpha))\n",
    "  \n",
    "  # Fit the Lasso regression (l1 regularization)\n",
    "  lasso = Lasso(alpha= alpha).fit(X_train_scaled, y_train)\n",
    "  \n",
    "  # Scaling the X test\n",
    "  X_test_scaled = scaler.transform(X_test)\n",
    "\n",
    "  #Evaluate a score by cross-validation and report it\n",
    "  cv_score = np.mean(cross_val_score(lasso,X_train,y_train, cv=5))\n",
    "  print(\"The training score by cross-validation.: {:.4f}\".format(cv_score))\n",
    "  \n",
    "  # Report the training set and test set scores   \n",
    "  print('Training set score: {:.4f}'.format(lasso.score(X_train_scaled,y_train)))\n",
    "  print('Test set score: {:.4f}'.format(lasso.score(X_test_scaled, y_test)))\n",
    "  \n",
    "  # The learning curves and plots of the choice of alpha\n",
    "  learning_curve(grid)"
   ]
  },
  {
   "cell_type": "code",
   "execution_count": 88,
   "metadata": {
    "colab": {
     "base_uri": "https://localhost:8080/",
     "height": 371
    },
    "id": "rBx_OQtq6h-X",
    "outputId": "27d8339f-cef7-4af6-cb6c-8de690e88925"
   },
   "outputs": [
    {
     "name": "stdout",
     "output_type": "stream",
     "text": [
      "The best alpha is : 0.001\n",
      "The training score by cross-validation.: 0.3457\n",
      "Training set score: 0.3692\n",
      "Test set score: 0.3149\n"
     ]
    },
    {
     "data": {
      "image/png": "[encoded data removed]",
      "text/plain": [
       "<Figure size 432x288 with 1 Axes>"
      ]
     },
     "metadata": {
      "needs_background": "light"
     },
     "output_type": "display_data"
    }
   ],
   "source": [
    "Wine_Lasso_Regression(red) # The Lasso Regression model to the red wine"
   ]
  },
  {
   "cell_type": "code",
   "execution_count": 89,
   "metadata": {
    "colab": {
     "base_uri": "https://localhost:8080/",
     "height": 371
    },
    "id": "7lulT6Ft6njW",
    "outputId": "485ad791-41ac-4a55-e74d-9bd6b0de9bed"
   },
   "outputs": [
    {
     "name": "stdout",
     "output_type": "stream",
     "text": [
      "The best alpha is : 0.001\n",
      "The training score by cross-validation.: 0.2681\n",
      "Training set score: 0.2812\n",
      "Test set score: 0.2821\n"
     ]
    },
    {
     "data": {
      "image/png": "[encoded data removed]",
      "text/plain": [
       "<Figure size 432x288 with 1 Axes>"
      ]
     },
     "metadata": {
      "needs_background": "light"
     },
     "output_type": "display_data"
    }
   ],
   "source": [
    "Wine_Lasso_Regression(white) # The Lasso Regression model to the white wine"
   ]
  },
  {
   "cell_type": "code",
   "execution_count": 90,
   "metadata": {
    "colab": {
     "base_uri": "https://localhost:8080/",
     "height": 371
    },
    "id": "hAKuEUkJt6Qt",
    "outputId": "597d4605-daf2-425f-a695-954104b4cc71"
   },
   "outputs": [
    {
     "name": "stdout",
     "output_type": "stream",
     "text": [
      "The best alpha is : 0.001\n",
      "The training score by cross-validation.: 0.2815\n",
      "Training set score: 0.2877\n",
      "Test set score: 0.3090\n"
     ]
    },
    {
     "data": {
      "image/png": "[encoded data removed]",
      "text/plain": [
       "<Figure size 432x288 with 1 Axes>"
      ]
     },
     "metadata": {
      "needs_background": "light"
     },
     "output_type": "display_data"
    }
   ],
   "source": [
    "Wine_Lasso_Regression(red_and_white_wine) # The Lasso Regression model to the red and white wine"
   ]
  },
  {
   "cell_type": "markdown",
   "metadata": {
    "id": "jNohUzUH6xlM"
   },
   "source": [
    "##Elastic Net regression"
   ]
  },
  {
   "cell_type": "code",
   "execution_count": 92,
   "metadata": {
    "id": "eea2sHhr9uAY"
   },
   "outputs": [],
   "source": [
    "def learning_curve_elastic_net(df,grid,param_grid):\n",
    "  df = pd.DataFrame(grid.cv_results_)\n",
    "  results = ['mean_test_score','mean_train_score']\n",
    "  fig, axes = plt.subplots(1, len(param_grid))\n",
    "  axes[0].set_ylabel('Score')\n",
    "  \n",
    "  for idx, (param_name, param_range) in enumerate(param_grid.items()):\n",
    "    grouped_df = df.groupby(f'param_{param_name}')[results]\\\n",
    "        .agg({'mean_train_score': 'mean',\n",
    "              'mean_test_score': 'mean'})\n",
    "\n",
    "    previous_group = df.groupby(f'param_{param_name}')[results]\n",
    "    axes[idx].set_xlabel(param_name)\n",
    "    axes[idx].plot(param_range, grouped_df['mean_train_score'], label=\"Training score\")\n",
    "    axes[idx].plot(param_range, grouped_df['mean_test_score'], label=\"Test score\")\n",
    "    \n",
    "\n",
    "  handles, labels = axes[0].get_legend_handles_labels()\n",
    "  plt.xscale(\"log\")\n",
    "  fig.suptitle('The learning curves of the alpha and l1 ratio on model performance')\n",
    "  fig.legend(handles, labels,loc='lower right')\n",
    "\n",
    "  plt.show()"
   ]
  },
  {
   "cell_type": "code",
   "execution_count": 93,
   "metadata": {
    "id": "tTUVxGAn64xQ"
   },
   "outputs": [],
   "source": [
    "# The Elastic Net Regression model\n",
    "\n",
    "def Wine_ElasticNet_Regression(df):\n",
    "  # Feature variables\n",
    "  X = df.drop('quality',axis = 1)\n",
    "  y = df['quality']\n",
    "  \n",
    "  # Splitting data in train and test sets\n",
    "  X_train, X_test, y_train, y_test = train_test_split(X,y,test_size=0.2)\n",
    "  \n",
    "  # Scaling the X train\n",
    "  scaler = StandardScaler()\n",
    "  scaler.fit(X_train)\n",
    "  X_train_scaled = scaler.transform(X_train)\n",
    "\n",
    "  # Find an optimal value for the hyperparameter alpha and l1 ratio using grid search.\n",
    "  param_grid = {'alpha': np.logspace(-3, 0, 7), 'l1_ratio' :[.1, .5, .7, .9, .95, .99, 1]}\n",
    "  \n",
    "  #The choices of l1 ratio:\n",
    "  #From sklearn documentation:\n",
    "    # 'Note that a good choice of list of values for l1_ratio is often to put more values close to 1 (i.e. Lasso) and\n",
    "    # less close to 0 (i.e. Ridge), as in [.1, .5, .7, .9, .95, .99, 1].'\n",
    "\n",
    "  grid = GridSearchCV(ElasticNet(max_iter=1000000), param_grid, return_train_score=True, cv=5)\n",
    "  grid.fit(X_train, y_train)\n",
    "  alpha = grid.best_params_['alpha']\n",
    "  l1 = grid.best_params_['l1_ratio']\n",
    "  print('The best alpha is : {}'.format(alpha))\n",
    "  print('The best l1 ratio is: {}'.format(l1))\n",
    "\n",
    "  # Fit the Elastic Net regression (l1 and l2 regularization)\n",
    "  elastic_net = ElasticNet(alpha= alpha,l1_ratio = l1).fit(X_train_scaled, y_train)\n",
    "  \n",
    "  # Scaling the X test  \n",
    "  X_test_scaled = scaler.transform(X_test)\n",
    "  \n",
    "  # Evaluate a score by cross-validation and report it\n",
    "  cv_score = np.mean(cross_val_score(elastic_net,X_train,y_train, cv=5))\n",
    "  print(\"The training score by cross-validation.: {:.4f}\".format(cv_score))\n",
    "  \n",
    "  # Report the training set and test set scores   \n",
    "  print('Training set score: {:.4f}'.format(elastic_net.score(X_train_scaled,y_train)))\n",
    "  print('Test set score: {:.4f}'.format(elastic_net.score(X_test_scaled, y_test)))\n",
    "  \n",
    "  # The learning curves and plots of the choice of alpha and l1 ratio on model performance \n",
    "  learning_curve_elastic_net(df,grid,param_grid)"
   ]
  },
  {
   "cell_type": "code",
   "execution_count": 94,
   "metadata": {
    "colab": {
     "base_uri": "https://localhost:8080/",
     "height": 402
    },
    "id": "9P8jS6eG7nBt",
    "outputId": "08b40403-a89d-40ab-a7fa-7499e754268f"
   },
   "outputs": [
    {
     "name": "stdout",
     "output_type": "stream",
     "text": [
      "The best alpha is : 0.001\n",
      "The best l1 ratio is: 0.1\n",
      "The training score by cross-validation.: 0.3422\n",
      "Training set score: 0.3655\n",
      "Test set score: 0.3242\n"
     ]
    },
    {
     "data": {
      "image/png": "[encoded data removed]",
      "text/plain": [
       "<Figure size 432x288 with 2 Axes>"
      ]
     },
     "metadata": {
      "needs_background": "light"
     },
     "output_type": "display_data"
    }
   ],
   "source": [
    "Wine_ElasticNet_Regression(red) # The Elastic Net Regression model to the red wine"
   ]
  },
  {
   "cell_type": "code",
   "execution_count": 95,
   "metadata": {
    "colab": {
     "base_uri": "https://localhost:8080/",
     "height": 402
    },
    "id": "SezmszpHCv0v",
    "outputId": "d843bb55-4f58-4c10-8bca-d22f2359cbfd"
   },
   "outputs": [
    {
     "name": "stdout",
     "output_type": "stream",
     "text": [
      "The best alpha is : 0.001\n",
      "The best l1 ratio is: 0.95\n",
      "The training score by cross-validation.: 0.2646\n",
      "Training set score: 0.2795\n",
      "Test set score: 0.2901\n"
     ]
    },
    {
     "data": {
      "image/png": "[encoded data removed]",
      "text/plain": [
       "<Figure size 432x288 with 2 Axes>"
      ]
     },
     "metadata": {
      "needs_background": "light"
     },
     "output_type": "display_data"
    }
   ],
   "source": [
    "Wine_ElasticNet_Regression(white) # The Elastic Net Regression model to the white wine"
   ]
  },
  {
   "cell_type": "code",
   "execution_count": 96,
   "metadata": {
    "colab": {
     "base_uri": "https://localhost:8080/",
     "height": 402
    },
    "id": "txV_VqtsuDJT",
    "outputId": "c74a03fd-48ff-4c72-d41d-d83a6ebefa1d"
   },
   "outputs": [
    {
     "name": "stdout",
     "output_type": "stream",
     "text": [
      "The best alpha is : 0.001\n",
      "The best l1 ratio is: 0.1\n",
      "The training score by cross-validation.: 0.2919\n",
      "Training set score: 0.2975\n",
      "Test set score: 0.2655\n"
     ]
    },
    {
     "data": {
      "image/png": "[encoded data removed]",
      "text/plain": [
       "<Figure size 432x288 with 2 Axes>"
      ]
     },
     "metadata": {
      "needs_background": "light"
     },
     "output_type": "display_data"
    }
   ],
   "source": [
    "Wine_ElasticNet_Regression(red_and_white_wine) # The Elastic Net Regression model to the red and white wine"
   ]
  }
 ],
 "metadata": {
  "colab": {
   "collapsed_sections": [
    "fTFKcLpCpDjK",
    "HjFSBkZDIb1Q",
    "5sQvhkL9In65",
    "EFs9aTPE0Kyp",
    "HcvbKep-1cT8"
   ],
   "provenance": []
  },
  "kernelspec": {
   "display_name": "Python 3 (ipykernel)",
   "language": "python",
   "name": "python3"
  },
  "language_info": {
   "codemirror_mode": {
    "name": "ipython",
    "version": 3
   },
   "file_extension": ".py",
   "mimetype": "text/x-python",
   "name": "python",
   "nbconvert_exporter": "python",
   "pygments_lexer": "ipython3",
   "version": "3.9.12"
  }
 },
 "nbformat": 4,
 "nbformat_minor": 1
}
